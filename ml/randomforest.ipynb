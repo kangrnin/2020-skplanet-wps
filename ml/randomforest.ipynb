{
 "metadata": {
  "language_info": {
   "codemirror_mode": {
    "name": "ipython",
    "version": 3
   },
   "file_extension": ".py",
   "mimetype": "text/x-python",
   "name": "python",
   "nbconvert_exporter": "python",
   "pygments_lexer": "ipython3",
   "version": "3.8.5-final"
  },
  "orig_nbformat": 2,
  "kernelspec": {
   "name": "Python 3.8.5 64-bit ('skplanet-wps': conda)",
   "display_name": "Python 3.8.5 64-bit ('skplanet-wps': conda)",
   "metadata": {
    "interpreter": {
     "hash": "1b21888daaddc9fb1f90179f0ba7cb36a844e9f70f4cd5365474a8b3fc47e882"
    }
   }
  }
 },
 "nbformat": 4,
 "nbformat_minor": 2,
 "cells": [
  {
   "cell_type": "code",
   "execution_count": 13,
   "metadata": {},
   "outputs": [
    {
     "output_type": "execute_result",
     "data": {
      "text/plain": [
       "     00:08:52:34:40:ec  00:23:aa:5a:d6:f8  00:23:aa:5a:d6:f9  \\\n",
       "0                    0                  0                  0   \n",
       "1                    0                  0                  0   \n",
       "2                    0                  0                  0   \n",
       "3                    0                  0                  0   \n",
       "4                    0                  0                  0   \n",
       "..                 ...                ...                ...   \n",
       "145                  0                  0                 81   \n",
       "146                  0                  0                 81   \n",
       "147                  0                  0                 81   \n",
       "148                  0                  0                 81   \n",
       "149                  0                  0                 80   \n",
       "\n",
       "     00:23:aa:69:3c:01  00:23:aa:69:3c:02  00:23:aa:b5:9b:9a  \\\n",
       "0                   50                 83                  0   \n",
       "1                   53                 85                  0   \n",
       "2                   57                 85                  0   \n",
       "3                   53                 85                  0   \n",
       "4                   62                 85                  0   \n",
       "..                 ...                ...                ...   \n",
       "145                 93                 99                  0   \n",
       "146                 94                 99                  0   \n",
       "147                 92                 99                  0   \n",
       "148                 93                 99                  0   \n",
       "149                 93                 99                  0   \n",
       "\n",
       "     00:23:aa:b6:2d:aa  08:10:77:3f:68:71  08:5d:dd:1b:63:02  \\\n",
       "0                    0                 97                  0   \n",
       "1                    0                 97                  0   \n",
       "2                    0                 95                  0   \n",
       "3                    0                 93                  0   \n",
       "4                    0                 94                  0   \n",
       "..                 ...                ...                ...   \n",
       "145                  0                 78                  0   \n",
       "146                  0                  0                  0   \n",
       "147                  0                 78                  0   \n",
       "148                  0                 80                  0   \n",
       "149                  0                 75                  0   \n",
       "\n",
       "     12:23:aa:5a:d6:f9  ...  88:3c:1c:da:ce:6e  8a:3c:1c:10:95:58  \\\n",
       "0                    0  ...                  0                  0   \n",
       "1                    0  ...                  0                  0   \n",
       "2                    0  ...                  0                  0   \n",
       "3                    0  ...                  0                  0   \n",
       "4                    0  ...                  0                  0   \n",
       "..                 ...  ...                ...                ...   \n",
       "145                  0  ...                  0                 40   \n",
       "146                 81  ...                  0                  0   \n",
       "147                 81  ...                  0                  0   \n",
       "148                 81  ...                  0                  0   \n",
       "149                 81  ...                  0                 46   \n",
       "\n",
       "     b0:df:c1:53:87:a1  b4:a9:4f:1a:d4:3e  b4:a9:4f:70:ce:4c  \\\n",
       "0                    0                  0                  0   \n",
       "1                    0                  0                  0   \n",
       "2                    0                  0                  0   \n",
       "3                    0                  0                  0   \n",
       "4                    0                  0                  0   \n",
       "..                 ...                ...                ...   \n",
       "145                  0                  0                  0   \n",
       "146                  0                  0                  0   \n",
       "147                  0                  0                  0   \n",
       "148                  0                  0                  0   \n",
       "149                  0                  0                  0   \n",
       "\n",
       "     ba:3c:1c:65:2c:c6  ba:a9:4f:70:ce:4c  e4:be:ed:96:73:1b  \\\n",
       "0                    0                  0                  0   \n",
       "1                    0                  0                  0   \n",
       "2                    0                  0                  0   \n",
       "3                    0                  0                  0   \n",
       "4                    0                  0                  0   \n",
       "..                 ...                ...                ...   \n",
       "145                  0                  0                  0   \n",
       "146                  0                  0                  0   \n",
       "147                  0                 40                  0   \n",
       "148                  0                  0                  0   \n",
       "149                  0                 40                  0   \n",
       "\n",
       "     e4:be:ed:96:73:1f  rp  \n",
       "0                    0   1  \n",
       "1                    0   1  \n",
       "2                    0   1  \n",
       "3                    0   1  \n",
       "4                    0   1  \n",
       "..                 ...  ..  \n",
       "145                  0   5  \n",
       "146                  0   5  \n",
       "147                  0   5  \n",
       "148                  0   5  \n",
       "149                  0   5  \n",
       "\n",
       "[150 rows x 49 columns]"
      ],
      "text/html": "<div>\n<style scoped>\n    .dataframe tbody tr th:only-of-type {\n        vertical-align: middle;\n    }\n\n    .dataframe tbody tr th {\n        vertical-align: top;\n    }\n\n    .dataframe thead th {\n        text-align: right;\n    }\n</style>\n<table border=\"1\" class=\"dataframe\">\n  <thead>\n    <tr style=\"text-align: right;\">\n      <th></th>\n      <th>00:08:52:34:40:ec</th>\n      <th>00:23:aa:5a:d6:f8</th>\n      <th>00:23:aa:5a:d6:f9</th>\n      <th>00:23:aa:69:3c:01</th>\n      <th>00:23:aa:69:3c:02</th>\n      <th>00:23:aa:b5:9b:9a</th>\n      <th>00:23:aa:b6:2d:aa</th>\n      <th>08:10:77:3f:68:71</th>\n      <th>08:5d:dd:1b:63:02</th>\n      <th>12:23:aa:5a:d6:f9</th>\n      <th>...</th>\n      <th>88:3c:1c:da:ce:6e</th>\n      <th>8a:3c:1c:10:95:58</th>\n      <th>b0:df:c1:53:87:a1</th>\n      <th>b4:a9:4f:1a:d4:3e</th>\n      <th>b4:a9:4f:70:ce:4c</th>\n      <th>ba:3c:1c:65:2c:c6</th>\n      <th>ba:a9:4f:70:ce:4c</th>\n      <th>e4:be:ed:96:73:1b</th>\n      <th>e4:be:ed:96:73:1f</th>\n      <th>rp</th>\n    </tr>\n  </thead>\n  <tbody>\n    <tr>\n      <th>0</th>\n      <td>0</td>\n      <td>0</td>\n      <td>0</td>\n      <td>50</td>\n      <td>83</td>\n      <td>0</td>\n      <td>0</td>\n      <td>97</td>\n      <td>0</td>\n      <td>0</td>\n      <td>...</td>\n      <td>0</td>\n      <td>0</td>\n      <td>0</td>\n      <td>0</td>\n      <td>0</td>\n      <td>0</td>\n      <td>0</td>\n      <td>0</td>\n      <td>0</td>\n      <td>1</td>\n    </tr>\n    <tr>\n      <th>1</th>\n      <td>0</td>\n      <td>0</td>\n      <td>0</td>\n      <td>53</td>\n      <td>85</td>\n      <td>0</td>\n      <td>0</td>\n      <td>97</td>\n      <td>0</td>\n      <td>0</td>\n      <td>...</td>\n      <td>0</td>\n      <td>0</td>\n      <td>0</td>\n      <td>0</td>\n      <td>0</td>\n      <td>0</td>\n      <td>0</td>\n      <td>0</td>\n      <td>0</td>\n      <td>1</td>\n    </tr>\n    <tr>\n      <th>2</th>\n      <td>0</td>\n      <td>0</td>\n      <td>0</td>\n      <td>57</td>\n      <td>85</td>\n      <td>0</td>\n      <td>0</td>\n      <td>95</td>\n      <td>0</td>\n      <td>0</td>\n      <td>...</td>\n      <td>0</td>\n      <td>0</td>\n      <td>0</td>\n      <td>0</td>\n      <td>0</td>\n      <td>0</td>\n      <td>0</td>\n      <td>0</td>\n      <td>0</td>\n      <td>1</td>\n    </tr>\n    <tr>\n      <th>3</th>\n      <td>0</td>\n      <td>0</td>\n      <td>0</td>\n      <td>53</td>\n      <td>85</td>\n      <td>0</td>\n      <td>0</td>\n      <td>93</td>\n      <td>0</td>\n      <td>0</td>\n      <td>...</td>\n      <td>0</td>\n      <td>0</td>\n      <td>0</td>\n      <td>0</td>\n      <td>0</td>\n      <td>0</td>\n      <td>0</td>\n      <td>0</td>\n      <td>0</td>\n      <td>1</td>\n    </tr>\n    <tr>\n      <th>4</th>\n      <td>0</td>\n      <td>0</td>\n      <td>0</td>\n      <td>62</td>\n      <td>85</td>\n      <td>0</td>\n      <td>0</td>\n      <td>94</td>\n      <td>0</td>\n      <td>0</td>\n      <td>...</td>\n      <td>0</td>\n      <td>0</td>\n      <td>0</td>\n      <td>0</td>\n      <td>0</td>\n      <td>0</td>\n      <td>0</td>\n      <td>0</td>\n      <td>0</td>\n      <td>1</td>\n    </tr>\n    <tr>\n      <th>...</th>\n      <td>...</td>\n      <td>...</td>\n      <td>...</td>\n      <td>...</td>\n      <td>...</td>\n      <td>...</td>\n      <td>...</td>\n      <td>...</td>\n      <td>...</td>\n      <td>...</td>\n      <td>...</td>\n      <td>...</td>\n      <td>...</td>\n      <td>...</td>\n      <td>...</td>\n      <td>...</td>\n      <td>...</td>\n      <td>...</td>\n      <td>...</td>\n      <td>...</td>\n      <td>...</td>\n    </tr>\n    <tr>\n      <th>145</th>\n      <td>0</td>\n      <td>0</td>\n      <td>81</td>\n      <td>93</td>\n      <td>99</td>\n      <td>0</td>\n      <td>0</td>\n      <td>78</td>\n      <td>0</td>\n      <td>0</td>\n      <td>...</td>\n      <td>0</td>\n      <td>40</td>\n      <td>0</td>\n      <td>0</td>\n      <td>0</td>\n      <td>0</td>\n      <td>0</td>\n      <td>0</td>\n      <td>0</td>\n      <td>5</td>\n    </tr>\n    <tr>\n      <th>146</th>\n      <td>0</td>\n      <td>0</td>\n      <td>81</td>\n      <td>94</td>\n      <td>99</td>\n      <td>0</td>\n      <td>0</td>\n      <td>0</td>\n      <td>0</td>\n      <td>81</td>\n      <td>...</td>\n      <td>0</td>\n      <td>0</td>\n      <td>0</td>\n      <td>0</td>\n      <td>0</td>\n      <td>0</td>\n      <td>0</td>\n      <td>0</td>\n      <td>0</td>\n      <td>5</td>\n    </tr>\n    <tr>\n      <th>147</th>\n      <td>0</td>\n      <td>0</td>\n      <td>81</td>\n      <td>92</td>\n      <td>99</td>\n      <td>0</td>\n      <td>0</td>\n      <td>78</td>\n      <td>0</td>\n      <td>81</td>\n      <td>...</td>\n      <td>0</td>\n      <td>0</td>\n      <td>0</td>\n      <td>0</td>\n      <td>0</td>\n      <td>0</td>\n      <td>40</td>\n      <td>0</td>\n      <td>0</td>\n      <td>5</td>\n    </tr>\n    <tr>\n      <th>148</th>\n      <td>0</td>\n      <td>0</td>\n      <td>81</td>\n      <td>93</td>\n      <td>99</td>\n      <td>0</td>\n      <td>0</td>\n      <td>80</td>\n      <td>0</td>\n      <td>81</td>\n      <td>...</td>\n      <td>0</td>\n      <td>0</td>\n      <td>0</td>\n      <td>0</td>\n      <td>0</td>\n      <td>0</td>\n      <td>0</td>\n      <td>0</td>\n      <td>0</td>\n      <td>5</td>\n    </tr>\n    <tr>\n      <th>149</th>\n      <td>0</td>\n      <td>0</td>\n      <td>80</td>\n      <td>93</td>\n      <td>99</td>\n      <td>0</td>\n      <td>0</td>\n      <td>75</td>\n      <td>0</td>\n      <td>81</td>\n      <td>...</td>\n      <td>0</td>\n      <td>46</td>\n      <td>0</td>\n      <td>0</td>\n      <td>0</td>\n      <td>0</td>\n      <td>40</td>\n      <td>0</td>\n      <td>0</td>\n      <td>5</td>\n    </tr>\n  </tbody>\n</table>\n<p>150 rows × 49 columns</p>\n</div>"
     },
     "metadata": {},
     "execution_count": 13
    }
   ],
   "source": [
    "import numpy as numpy\n",
    "import pandas as pd\n",
    "\n",
    "df_all = pd.read_csv('../processed_data/data.csv')\n",
    "\n",
    "df_all"
   ]
  },
  {
   "cell_type": "code",
   "execution_count": 14,
   "metadata": {},
   "outputs": [
    {
     "output_type": "execute_result",
     "data": {
      "text/plain": [
       "array([[ 0,  0,  0, ...,  0,  0,  0],\n",
       "       [ 0,  0,  0, ...,  0,  0,  0],\n",
       "       [ 0,  0,  0, ...,  0,  0,  0],\n",
       "       ...,\n",
       "       [ 0,  0, 81, ..., 40,  0,  0],\n",
       "       [ 0,  0, 81, ...,  0,  0,  0],\n",
       "       [ 0,  0, 80, ..., 40,  0,  0]], dtype=int64)"
      ]
     },
     "metadata": {},
     "execution_count": 14
    }
   ],
   "source": [
    "x_train = df_all.iloc[:,:-1].values\n",
    "y_train = df_all.iloc[:,-1].values\n",
    "\n",
    "x_train"
   ]
  },
  {
   "cell_type": "code",
   "execution_count": 15,
   "metadata": {},
   "outputs": [
    {
     "output_type": "execute_result",
     "data": {
      "text/plain": [
       "array([1, 1, 1, 1, 1, 1, 1, 1, 1, 1, 1, 1, 1, 1, 1, 1, 1, 1, 1, 1, 1, 1,\n",
       "       1, 1, 1, 1, 1, 1, 1, 1, 2, 2, 2, 2, 2, 2, 2, 2, 2, 2, 2, 2, 2, 2,\n",
       "       2, 2, 2, 2, 2, 2, 2, 2, 2, 2, 2, 2, 2, 2, 2, 2, 3, 3, 3, 3, 3, 3,\n",
       "       3, 3, 3, 3, 3, 3, 3, 3, 3, 3, 3, 3, 3, 3, 3, 3, 3, 3, 3, 3, 3, 3,\n",
       "       3, 3, 4, 4, 4, 4, 4, 4, 4, 4, 4, 4, 4, 4, 4, 4, 4, 4, 4, 4, 4, 4,\n",
       "       4, 4, 4, 4, 4, 4, 4, 4, 4, 4, 5, 5, 5, 5, 5, 5, 5, 5, 5, 5, 5, 5,\n",
       "       5, 5, 5, 5, 5, 5, 5, 5, 5, 5, 5, 5, 5, 5, 5, 5, 5, 5], dtype=int64)"
      ]
     },
     "metadata": {},
     "execution_count": 15
    }
   ],
   "source": [
    "from sklearn.ensemble import RandomForestClassifier\n",
    "from sklearn.metrics import accuracy_score\n",
    "\n",
    "rnd_clf = RandomForestClassifier(n_estimators=100, max_leaf_nodes=4, n_jobs=-1, random_state=42)\n",
    "rnd_clf.fit(x_train, y_train)\n",
    "\n",
    "pred_train = rnd_clf.predict(x_train)\n",
    "pred_train"
   ]
  },
  {
   "cell_type": "code",
   "execution_count": 16,
   "metadata": {},
   "outputs": [
    {
     "output_type": "execute_result",
     "data": {
      "text/plain": [
       "    00:08:52:34:40:ec  00:23:aa:5a:d6:f8  00:23:aa:5a:d6:f9  \\\n",
       "0                   0                  0                  0   \n",
       "1                   0                  0                  0   \n",
       "2                   0                  0                  0   \n",
       "3                   0                  0                  0   \n",
       "4                   0                  0                  0   \n",
       "..                ...                ...                ...   \n",
       "70                  0                  0                 80   \n",
       "71                  0                  0                 72   \n",
       "72                  0                  0                 70   \n",
       "73                  0                  0                 67   \n",
       "74                  0                  0                 67   \n",
       "\n",
       "    00:23:aa:69:3c:01  00:23:aa:69:3c:02  00:23:aa:b5:9b:9a  \\\n",
       "0                   0                 84                  0   \n",
       "1                   0                 83                  0   \n",
       "2                  40                 83                  0   \n",
       "3                   0                 83                  0   \n",
       "4                   0                 83                  0   \n",
       "..                ...                ...                ...   \n",
       "70                 96                 99                  0   \n",
       "71                 91                 99                  0   \n",
       "72                 92                  0                  0   \n",
       "73                 91                 99                  0   \n",
       "74                 91                 99                  0   \n",
       "\n",
       "    00:23:aa:b6:2d:aa  08:10:77:3f:68:71  08:5d:dd:1b:63:02  \\\n",
       "0                   0                 81                  0   \n",
       "1                   0                 93                  0   \n",
       "2                   0                 92                  0   \n",
       "3                   0                 93                  0   \n",
       "4                   0                 92                  0   \n",
       "..                ...                ...                ...   \n",
       "70                  0                 80                  0   \n",
       "71                  0                 65                  0   \n",
       "72                  0                 80                  0   \n",
       "73                  0                 80                  0   \n",
       "74                  0                 78                  0   \n",
       "\n",
       "    12:23:aa:5a:d6:f9  ...  88:3c:1c:da:ce:6e  8a:3c:1c:10:95:58  \\\n",
       "0                   0  ...                  0                  0   \n",
       "1                   0  ...                  0                  0   \n",
       "2                   0  ...                  0                  0   \n",
       "3                   0  ...                  0                  0   \n",
       "4                   0  ...                  0                  0   \n",
       "..                ...  ...                ...                ...   \n",
       "70                 78  ...                  0                  0   \n",
       "71                  0  ...                  0                  0   \n",
       "72                 67  ...                  0                  0   \n",
       "73                 72  ...                  0                  0   \n",
       "74                 70  ...                  0                  0   \n",
       "\n",
       "    b0:df:c1:53:87:a1  b4:a9:4f:1a:d4:3e  b4:a9:4f:70:ce:4c  \\\n",
       "0                   0                  0                  0   \n",
       "1                   0                  0                  0   \n",
       "2                   0                  0                  0   \n",
       "3                   0                  0                  0   \n",
       "4                   0                  0                  0   \n",
       "..                ...                ...                ...   \n",
       "70                  0                  0                 40   \n",
       "71                  0                  0                  0   \n",
       "72                  0                  0                  0   \n",
       "73                  0                  0                  0   \n",
       "74                  0                  0                  0   \n",
       "\n",
       "    ba:3c:1c:65:2c:c6  ba:a9:4f:70:ce:4c  e4:be:ed:96:73:1b  \\\n",
       "0                   0                  0                  0   \n",
       "1                   0                  0                  0   \n",
       "2                   0                  0                  0   \n",
       "3                   0                  0                  0   \n",
       "4                   0                  0                  0   \n",
       "..                ...                ...                ...   \n",
       "70                  0                  0                  0   \n",
       "71                  0                  0                  0   \n",
       "72                  0                  0                  0   \n",
       "73                  0                  0                  0   \n",
       "74                  0                  0                  0   \n",
       "\n",
       "    e4:be:ed:96:73:1f  rp  \n",
       "0                   0   1  \n",
       "1                   0   1  \n",
       "2                   0   1  \n",
       "3                   0   1  \n",
       "4                   0   1  \n",
       "..                ...  ..  \n",
       "70                  0   5  \n",
       "71                  0   5  \n",
       "72                  0   5  \n",
       "73                  0   5  \n",
       "74                  0   5  \n",
       "\n",
       "[75 rows x 49 columns]"
      ],
      "text/html": "<div>\n<style scoped>\n    .dataframe tbody tr th:only-of-type {\n        vertical-align: middle;\n    }\n\n    .dataframe tbody tr th {\n        vertical-align: top;\n    }\n\n    .dataframe thead th {\n        text-align: right;\n    }\n</style>\n<table border=\"1\" class=\"dataframe\">\n  <thead>\n    <tr style=\"text-align: right;\">\n      <th></th>\n      <th>00:08:52:34:40:ec</th>\n      <th>00:23:aa:5a:d6:f8</th>\n      <th>00:23:aa:5a:d6:f9</th>\n      <th>00:23:aa:69:3c:01</th>\n      <th>00:23:aa:69:3c:02</th>\n      <th>00:23:aa:b5:9b:9a</th>\n      <th>00:23:aa:b6:2d:aa</th>\n      <th>08:10:77:3f:68:71</th>\n      <th>08:5d:dd:1b:63:02</th>\n      <th>12:23:aa:5a:d6:f9</th>\n      <th>...</th>\n      <th>88:3c:1c:da:ce:6e</th>\n      <th>8a:3c:1c:10:95:58</th>\n      <th>b0:df:c1:53:87:a1</th>\n      <th>b4:a9:4f:1a:d4:3e</th>\n      <th>b4:a9:4f:70:ce:4c</th>\n      <th>ba:3c:1c:65:2c:c6</th>\n      <th>ba:a9:4f:70:ce:4c</th>\n      <th>e4:be:ed:96:73:1b</th>\n      <th>e4:be:ed:96:73:1f</th>\n      <th>rp</th>\n    </tr>\n  </thead>\n  <tbody>\n    <tr>\n      <th>0</th>\n      <td>0</td>\n      <td>0</td>\n      <td>0</td>\n      <td>0</td>\n      <td>84</td>\n      <td>0</td>\n      <td>0</td>\n      <td>81</td>\n      <td>0</td>\n      <td>0</td>\n      <td>...</td>\n      <td>0</td>\n      <td>0</td>\n      <td>0</td>\n      <td>0</td>\n      <td>0</td>\n      <td>0</td>\n      <td>0</td>\n      <td>0</td>\n      <td>0</td>\n      <td>1</td>\n    </tr>\n    <tr>\n      <th>1</th>\n      <td>0</td>\n      <td>0</td>\n      <td>0</td>\n      <td>0</td>\n      <td>83</td>\n      <td>0</td>\n      <td>0</td>\n      <td>93</td>\n      <td>0</td>\n      <td>0</td>\n      <td>...</td>\n      <td>0</td>\n      <td>0</td>\n      <td>0</td>\n      <td>0</td>\n      <td>0</td>\n      <td>0</td>\n      <td>0</td>\n      <td>0</td>\n      <td>0</td>\n      <td>1</td>\n    </tr>\n    <tr>\n      <th>2</th>\n      <td>0</td>\n      <td>0</td>\n      <td>0</td>\n      <td>40</td>\n      <td>83</td>\n      <td>0</td>\n      <td>0</td>\n      <td>92</td>\n      <td>0</td>\n      <td>0</td>\n      <td>...</td>\n      <td>0</td>\n      <td>0</td>\n      <td>0</td>\n      <td>0</td>\n      <td>0</td>\n      <td>0</td>\n      <td>0</td>\n      <td>0</td>\n      <td>0</td>\n      <td>1</td>\n    </tr>\n    <tr>\n      <th>3</th>\n      <td>0</td>\n      <td>0</td>\n      <td>0</td>\n      <td>0</td>\n      <td>83</td>\n      <td>0</td>\n      <td>0</td>\n      <td>93</td>\n      <td>0</td>\n      <td>0</td>\n      <td>...</td>\n      <td>0</td>\n      <td>0</td>\n      <td>0</td>\n      <td>0</td>\n      <td>0</td>\n      <td>0</td>\n      <td>0</td>\n      <td>0</td>\n      <td>0</td>\n      <td>1</td>\n    </tr>\n    <tr>\n      <th>4</th>\n      <td>0</td>\n      <td>0</td>\n      <td>0</td>\n      <td>0</td>\n      <td>83</td>\n      <td>0</td>\n      <td>0</td>\n      <td>92</td>\n      <td>0</td>\n      <td>0</td>\n      <td>...</td>\n      <td>0</td>\n      <td>0</td>\n      <td>0</td>\n      <td>0</td>\n      <td>0</td>\n      <td>0</td>\n      <td>0</td>\n      <td>0</td>\n      <td>0</td>\n      <td>1</td>\n    </tr>\n    <tr>\n      <th>...</th>\n      <td>...</td>\n      <td>...</td>\n      <td>...</td>\n      <td>...</td>\n      <td>...</td>\n      <td>...</td>\n      <td>...</td>\n      <td>...</td>\n      <td>...</td>\n      <td>...</td>\n      <td>...</td>\n      <td>...</td>\n      <td>...</td>\n      <td>...</td>\n      <td>...</td>\n      <td>...</td>\n      <td>...</td>\n      <td>...</td>\n      <td>...</td>\n      <td>...</td>\n      <td>...</td>\n    </tr>\n    <tr>\n      <th>70</th>\n      <td>0</td>\n      <td>0</td>\n      <td>80</td>\n      <td>96</td>\n      <td>99</td>\n      <td>0</td>\n      <td>0</td>\n      <td>80</td>\n      <td>0</td>\n      <td>78</td>\n      <td>...</td>\n      <td>0</td>\n      <td>0</td>\n      <td>0</td>\n      <td>0</td>\n      <td>40</td>\n      <td>0</td>\n      <td>0</td>\n      <td>0</td>\n      <td>0</td>\n      <td>5</td>\n    </tr>\n    <tr>\n      <th>71</th>\n      <td>0</td>\n      <td>0</td>\n      <td>72</td>\n      <td>91</td>\n      <td>99</td>\n      <td>0</td>\n      <td>0</td>\n      <td>65</td>\n      <td>0</td>\n      <td>0</td>\n      <td>...</td>\n      <td>0</td>\n      <td>0</td>\n      <td>0</td>\n      <td>0</td>\n      <td>0</td>\n      <td>0</td>\n      <td>0</td>\n      <td>0</td>\n      <td>0</td>\n      <td>5</td>\n    </tr>\n    <tr>\n      <th>72</th>\n      <td>0</td>\n      <td>0</td>\n      <td>70</td>\n      <td>92</td>\n      <td>0</td>\n      <td>0</td>\n      <td>0</td>\n      <td>80</td>\n      <td>0</td>\n      <td>67</td>\n      <td>...</td>\n      <td>0</td>\n      <td>0</td>\n      <td>0</td>\n      <td>0</td>\n      <td>0</td>\n      <td>0</td>\n      <td>0</td>\n      <td>0</td>\n      <td>0</td>\n      <td>5</td>\n    </tr>\n    <tr>\n      <th>73</th>\n      <td>0</td>\n      <td>0</td>\n      <td>67</td>\n      <td>91</td>\n      <td>99</td>\n      <td>0</td>\n      <td>0</td>\n      <td>80</td>\n      <td>0</td>\n      <td>72</td>\n      <td>...</td>\n      <td>0</td>\n      <td>0</td>\n      <td>0</td>\n      <td>0</td>\n      <td>0</td>\n      <td>0</td>\n      <td>0</td>\n      <td>0</td>\n      <td>0</td>\n      <td>5</td>\n    </tr>\n    <tr>\n      <th>74</th>\n      <td>0</td>\n      <td>0</td>\n      <td>67</td>\n      <td>91</td>\n      <td>99</td>\n      <td>0</td>\n      <td>0</td>\n      <td>78</td>\n      <td>0</td>\n      <td>70</td>\n      <td>...</td>\n      <td>0</td>\n      <td>0</td>\n      <td>0</td>\n      <td>0</td>\n      <td>0</td>\n      <td>0</td>\n      <td>0</td>\n      <td>0</td>\n      <td>0</td>\n      <td>5</td>\n    </tr>\n  </tbody>\n</table>\n<p>75 rows × 49 columns</p>\n</div>"
     },
     "metadata": {},
     "execution_count": 16
    }
   ],
   "source": [
    "df_test = pd.read_csv('../test/processed_data/data.csv')\n",
    "df_test"
   ]
  },
  {
   "cell_type": "code",
   "execution_count": 17,
   "metadata": {},
   "outputs": [
    {
     "output_type": "execute_result",
     "data": {
      "text/plain": [
       "array([1, 1, 1, 1, 1, 1, 1, 1, 1, 1, 1, 1, 1, 1, 1, 2, 2, 2, 2, 2, 2, 2,\n",
       "       2, 2, 2, 2, 2, 2, 2, 2, 3, 3, 3, 3, 3, 3, 3, 3, 3, 3, 3, 3, 3, 1,\n",
       "       3, 2, 5, 2, 2, 2, 2, 3, 2, 2, 4, 2, 4, 4, 2, 2, 5, 5, 5, 5, 5, 5,\n",
       "       5, 5, 5, 5, 5, 5, 5, 5, 5], dtype=int64)"
      ]
     },
     "metadata": {},
     "execution_count": 17
    }
   ],
   "source": [
    "\n",
    "x_test = df_test.iloc[:,:-1].values\n",
    "y_test = df_test.iloc[:,-1].values\n",
    "\n",
    "pred_test = rnd_clf.predict(x_test)\n",
    "pred_test"
   ]
  },
  {
   "cell_type": "code",
   "execution_count": 18,
   "metadata": {},
   "outputs": [
    {
     "output_type": "stream",
     "name": "stdout",
     "text": [
      "0.8266666666666667\n"
     ]
    }
   ],
   "source": [
    "print(accuracy_score(y_test, pred_test))"
   ]
  },
  {
   "cell_type": "code",
   "execution_count": null,
   "metadata": {},
   "outputs": [],
   "source": []
  }
 ]
}
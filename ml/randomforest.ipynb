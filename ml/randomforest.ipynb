{
 "metadata": {
  "language_info": {
   "codemirror_mode": {
    "name": "ipython",
    "version": 3
   },
   "file_extension": ".py",
   "mimetype": "text/x-python",
   "name": "python",
   "nbconvert_exporter": "python",
   "pygments_lexer": "ipython3",
   "version": "3.8.5-final"
  },
  "orig_nbformat": 2,
  "kernelspec": {
   "name": "Python 3.8.5 64-bit ('skplanet-wps': conda)",
   "display_name": "Python 3.8.5 64-bit ('skplanet-wps': conda)",
   "metadata": {
    "interpreter": {
     "hash": "1b21888daaddc9fb1f90179f0ba7cb36a844e9f70f4cd5365474a8b3fc47e882"
    }
   }
  }
 },
 "nbformat": 4,
 "nbformat_minor": 2,
 "cells": [
  {
   "cell_type": "code",
   "execution_count": 1,
   "metadata": {},
   "outputs": [
    {
     "output_type": "execute_result",
     "data": {
      "text/plain": [
       "     00:03:c0:25:11:3e  00:08:52:34:40:e8  00:08:52:34:40:e9  \\\n",
       "0                    0                  0                  0   \n",
       "1                    0                  0                  0   \n",
       "2                    0                  0                  0   \n",
       "3                    0                  0                  0   \n",
       "4                    0                  0                  0   \n",
       "..                 ...                ...                ...   \n",
       "370                  0                  0                  0   \n",
       "371                  0                  0                  0   \n",
       "372                  0                  0                  0   \n",
       "373                  0                  0                  0   \n",
       "374                  0                 40                 40   \n",
       "\n",
       "     00:08:52:34:40:ec  00:08:52:5d:3b:ad  00:08:52:5d:3b:af  \\\n",
       "0                    0                  0                  0   \n",
       "1                    0                  0                  0   \n",
       "2                    0                  0                  0   \n",
       "3                    0                  0                  0   \n",
       "4                    0                  0                  0   \n",
       "..                 ...                ...                ...   \n",
       "370                  0                  0                  0   \n",
       "371                  0                  0                 57   \n",
       "372                 40                  0                 57   \n",
       "373                  0                 57                 60   \n",
       "374                 40                 67                 60   \n",
       "\n",
       "     00:0b:81:9b:d1:6e  00:23:aa:5a:d6:f8  00:23:aa:5a:d6:f9  \\\n",
       "0                    0                  0                  0   \n",
       "1                    0                  0                  0   \n",
       "2                    0                  0                  0   \n",
       "3                    0                  0                  0   \n",
       "4                    0                  0                  0   \n",
       "..                 ...                ...                ...   \n",
       "370                  0                  0                 81   \n",
       "371                  0                  0                 72   \n",
       "372                  0                  0                 70   \n",
       "373                  0                  0                 70   \n",
       "374                  0                  0                 70   \n",
       "\n",
       "     00:23:aa:69:3c:01  ...  88:3c:1c:da:ce:6e  8a:3c:1c:10:95:58  \\\n",
       "0                   50  ...                  0                  0   \n",
       "1                   53  ...                  0                  0   \n",
       "2                   57  ...                  0                  0   \n",
       "3                   53  ...                  0                  0   \n",
       "4                   62  ...                  0                  0   \n",
       "..                 ...  ...                ...                ...   \n",
       "370                 97  ...                  0                 53   \n",
       "371                 93  ...                  0                  0   \n",
       "372                 92  ...                 50                  0   \n",
       "373                 92  ...                  0                  0   \n",
       "374                 92  ...                 50                  0   \n",
       "\n",
       "     b0:df:c1:53:87:a1  b4:a9:4f:1a:d4:3e  b4:a9:4f:70:ce:4c  \\\n",
       "0                    0                  0                  0   \n",
       "1                    0                  0                  0   \n",
       "2                    0                  0                  0   \n",
       "3                    0                  0                  0   \n",
       "4                    0                  0                  0   \n",
       "..                 ...                ...                ...   \n",
       "370                  0                  0                  0   \n",
       "371                  0                  0                  0   \n",
       "372                  0                  0                  0   \n",
       "373                  0                  0                  0   \n",
       "374                  0                  0                 40   \n",
       "\n",
       "     ba:3c:1c:65:2c:c6  ba:a9:4f:70:ce:4c  e4:be:ed:96:73:1b  \\\n",
       "0                    0                  0                  0   \n",
       "1                    0                  0                  0   \n",
       "2                    0                  0                  0   \n",
       "3                    0                  0                  0   \n",
       "4                    0                  0                  0   \n",
       "..                 ...                ...                ...   \n",
       "370                  0                  0                  0   \n",
       "371                 40                  0                  0   \n",
       "372                  0                  0                  0   \n",
       "373                  0                  0                  0   \n",
       "374                  0                  0                  0   \n",
       "\n",
       "     e4:be:ed:96:73:1f  rp  \n",
       "0                    0   1  \n",
       "1                    0   1  \n",
       "2                    0   1  \n",
       "3                    0   1  \n",
       "4                    0   1  \n",
       "..                 ...  ..  \n",
       "370                  0   5  \n",
       "371                  0   5  \n",
       "372                  0   5  \n",
       "373                  0   5  \n",
       "374                  0   5  \n",
       "\n",
       "[375 rows x 63 columns]"
      ],
      "text/html": "<div>\n<style scoped>\n    .dataframe tbody tr th:only-of-type {\n        vertical-align: middle;\n    }\n\n    .dataframe tbody tr th {\n        vertical-align: top;\n    }\n\n    .dataframe thead th {\n        text-align: right;\n    }\n</style>\n<table border=\"1\" class=\"dataframe\">\n  <thead>\n    <tr style=\"text-align: right;\">\n      <th></th>\n      <th>00:03:c0:25:11:3e</th>\n      <th>00:08:52:34:40:e8</th>\n      <th>00:08:52:34:40:e9</th>\n      <th>00:08:52:34:40:ec</th>\n      <th>00:08:52:5d:3b:ad</th>\n      <th>00:08:52:5d:3b:af</th>\n      <th>00:0b:81:9b:d1:6e</th>\n      <th>00:23:aa:5a:d6:f8</th>\n      <th>00:23:aa:5a:d6:f9</th>\n      <th>00:23:aa:69:3c:01</th>\n      <th>...</th>\n      <th>88:3c:1c:da:ce:6e</th>\n      <th>8a:3c:1c:10:95:58</th>\n      <th>b0:df:c1:53:87:a1</th>\n      <th>b4:a9:4f:1a:d4:3e</th>\n      <th>b4:a9:4f:70:ce:4c</th>\n      <th>ba:3c:1c:65:2c:c6</th>\n      <th>ba:a9:4f:70:ce:4c</th>\n      <th>e4:be:ed:96:73:1b</th>\n      <th>e4:be:ed:96:73:1f</th>\n      <th>rp</th>\n    </tr>\n  </thead>\n  <tbody>\n    <tr>\n      <th>0</th>\n      <td>0</td>\n      <td>0</td>\n      <td>0</td>\n      <td>0</td>\n      <td>0</td>\n      <td>0</td>\n      <td>0</td>\n      <td>0</td>\n      <td>0</td>\n      <td>50</td>\n      <td>...</td>\n      <td>0</td>\n      <td>0</td>\n      <td>0</td>\n      <td>0</td>\n      <td>0</td>\n      <td>0</td>\n      <td>0</td>\n      <td>0</td>\n      <td>0</td>\n      <td>1</td>\n    </tr>\n    <tr>\n      <th>1</th>\n      <td>0</td>\n      <td>0</td>\n      <td>0</td>\n      <td>0</td>\n      <td>0</td>\n      <td>0</td>\n      <td>0</td>\n      <td>0</td>\n      <td>0</td>\n      <td>53</td>\n      <td>...</td>\n      <td>0</td>\n      <td>0</td>\n      <td>0</td>\n      <td>0</td>\n      <td>0</td>\n      <td>0</td>\n      <td>0</td>\n      <td>0</td>\n      <td>0</td>\n      <td>1</td>\n    </tr>\n    <tr>\n      <th>2</th>\n      <td>0</td>\n      <td>0</td>\n      <td>0</td>\n      <td>0</td>\n      <td>0</td>\n      <td>0</td>\n      <td>0</td>\n      <td>0</td>\n      <td>0</td>\n      <td>57</td>\n      <td>...</td>\n      <td>0</td>\n      <td>0</td>\n      <td>0</td>\n      <td>0</td>\n      <td>0</td>\n      <td>0</td>\n      <td>0</td>\n      <td>0</td>\n      <td>0</td>\n      <td>1</td>\n    </tr>\n    <tr>\n      <th>3</th>\n      <td>0</td>\n      <td>0</td>\n      <td>0</td>\n      <td>0</td>\n      <td>0</td>\n      <td>0</td>\n      <td>0</td>\n      <td>0</td>\n      <td>0</td>\n      <td>53</td>\n      <td>...</td>\n      <td>0</td>\n      <td>0</td>\n      <td>0</td>\n      <td>0</td>\n      <td>0</td>\n      <td>0</td>\n      <td>0</td>\n      <td>0</td>\n      <td>0</td>\n      <td>1</td>\n    </tr>\n    <tr>\n      <th>4</th>\n      <td>0</td>\n      <td>0</td>\n      <td>0</td>\n      <td>0</td>\n      <td>0</td>\n      <td>0</td>\n      <td>0</td>\n      <td>0</td>\n      <td>0</td>\n      <td>62</td>\n      <td>...</td>\n      <td>0</td>\n      <td>0</td>\n      <td>0</td>\n      <td>0</td>\n      <td>0</td>\n      <td>0</td>\n      <td>0</td>\n      <td>0</td>\n      <td>0</td>\n      <td>1</td>\n    </tr>\n    <tr>\n      <th>...</th>\n      <td>...</td>\n      <td>...</td>\n      <td>...</td>\n      <td>...</td>\n      <td>...</td>\n      <td>...</td>\n      <td>...</td>\n      <td>...</td>\n      <td>...</td>\n      <td>...</td>\n      <td>...</td>\n      <td>...</td>\n      <td>...</td>\n      <td>...</td>\n      <td>...</td>\n      <td>...</td>\n      <td>...</td>\n      <td>...</td>\n      <td>...</td>\n      <td>...</td>\n      <td>...</td>\n    </tr>\n    <tr>\n      <th>370</th>\n      <td>0</td>\n      <td>0</td>\n      <td>0</td>\n      <td>0</td>\n      <td>0</td>\n      <td>0</td>\n      <td>0</td>\n      <td>0</td>\n      <td>81</td>\n      <td>97</td>\n      <td>...</td>\n      <td>0</td>\n      <td>53</td>\n      <td>0</td>\n      <td>0</td>\n      <td>0</td>\n      <td>0</td>\n      <td>0</td>\n      <td>0</td>\n      <td>0</td>\n      <td>5</td>\n    </tr>\n    <tr>\n      <th>371</th>\n      <td>0</td>\n      <td>0</td>\n      <td>0</td>\n      <td>0</td>\n      <td>0</td>\n      <td>57</td>\n      <td>0</td>\n      <td>0</td>\n      <td>72</td>\n      <td>93</td>\n      <td>...</td>\n      <td>0</td>\n      <td>0</td>\n      <td>0</td>\n      <td>0</td>\n      <td>0</td>\n      <td>40</td>\n      <td>0</td>\n      <td>0</td>\n      <td>0</td>\n      <td>5</td>\n    </tr>\n    <tr>\n      <th>372</th>\n      <td>0</td>\n      <td>0</td>\n      <td>0</td>\n      <td>40</td>\n      <td>0</td>\n      <td>57</td>\n      <td>0</td>\n      <td>0</td>\n      <td>70</td>\n      <td>92</td>\n      <td>...</td>\n      <td>50</td>\n      <td>0</td>\n      <td>0</td>\n      <td>0</td>\n      <td>0</td>\n      <td>0</td>\n      <td>0</td>\n      <td>0</td>\n      <td>0</td>\n      <td>5</td>\n    </tr>\n    <tr>\n      <th>373</th>\n      <td>0</td>\n      <td>0</td>\n      <td>0</td>\n      <td>0</td>\n      <td>57</td>\n      <td>60</td>\n      <td>0</td>\n      <td>0</td>\n      <td>70</td>\n      <td>92</td>\n      <td>...</td>\n      <td>0</td>\n      <td>0</td>\n      <td>0</td>\n      <td>0</td>\n      <td>0</td>\n      <td>0</td>\n      <td>0</td>\n      <td>0</td>\n      <td>0</td>\n      <td>5</td>\n    </tr>\n    <tr>\n      <th>374</th>\n      <td>0</td>\n      <td>40</td>\n      <td>40</td>\n      <td>40</td>\n      <td>67</td>\n      <td>60</td>\n      <td>0</td>\n      <td>0</td>\n      <td>70</td>\n      <td>92</td>\n      <td>...</td>\n      <td>50</td>\n      <td>0</td>\n      <td>0</td>\n      <td>0</td>\n      <td>40</td>\n      <td>0</td>\n      <td>0</td>\n      <td>0</td>\n      <td>0</td>\n      <td>5</td>\n    </tr>\n  </tbody>\n</table>\n<p>375 rows × 63 columns</p>\n</div>"
     },
     "metadata": {},
     "execution_count": 1
    }
   ],
   "source": [
    "import numpy as numpy\n",
    "import pandas as pd\n",
    "\n",
    "df_all = pd.read_csv('../processed_data/data.csv')\n",
    "\n",
    "df_all"
   ]
  },
  {
   "cell_type": "code",
   "execution_count": 2,
   "metadata": {},
   "outputs": [
    {
     "output_type": "execute_result",
     "data": {
      "text/plain": [
       "array([[0, 0, 0, ..., 0, 0, 0],\n",
       "       [0, 0, 0, ..., 0, 0, 0],\n",
       "       [0, 0, 0, ..., 0, 0, 0],\n",
       "       ...,\n",
       "       [0, 0, 0, ..., 0, 0, 0],\n",
       "       [0, 0, 0, ..., 0, 0, 0],\n",
       "       [0, 0, 0, ..., 0, 0, 0]], dtype=int64)"
      ]
     },
     "metadata": {},
     "execution_count": 2
    }
   ],
   "source": [
    "from sklearn.model_selection import train_test_split\n",
    "\n",
    "x = df_all.iloc[:,:-1].values\n",
    "y = df_all.iloc[:,-1].values\n",
    "\n",
    "x_train, x_test, y_train, y_test = train_test_split(x, y, test_size=0.2, random_state=None)\n",
    "\n",
    "x_train"
   ]
  },
  {
   "cell_type": "code",
   "execution_count": 3,
   "metadata": {},
   "outputs": [
    {
     "output_type": "execute_result",
     "data": {
      "text/plain": [
       "array([3, 2, 2, 5, 1, 1, 4, 1, 2, 2, 5, 5, 4, 3, 2, 4, 1, 3, 4, 3, 4, 2,\n",
       "       1, 3, 1, 3, 5, 5, 3, 2, 5, 5, 5, 5, 4, 4, 3, 5, 1, 5, 2, 3, 1, 5,\n",
       "       2, 4, 2, 3, 1, 1, 3, 3, 4, 4, 2, 3, 3, 1, 2, 5, 1, 4, 4, 1, 3, 2,\n",
       "       2, 3, 5, 4, 5, 2, 4, 4, 2, 5, 2, 1, 4, 2, 2, 4, 2, 5, 1, 1, 1, 2,\n",
       "       2, 1, 5, 5, 4, 5, 2, 2, 3, 2, 5, 3, 5, 4, 4, 3, 5, 5, 4, 2, 1, 1,\n",
       "       4, 3, 3, 2, 3, 4, 4, 2, 5, 5, 5, 5, 3, 4, 2, 3, 3, 3, 5, 1, 5, 2,\n",
       "       3, 4, 1, 2, 4, 5, 5, 2, 1, 5, 1, 2, 5, 2, 3, 4, 2, 3, 5, 1, 5, 1,\n",
       "       5, 2, 3, 1, 3, 1, 1, 1, 3, 2, 4, 4, 3, 4, 3, 2, 4, 1, 4, 4, 2, 4,\n",
       "       3, 3, 2, 1, 2, 4, 3, 4, 5, 1, 4, 5, 2, 4, 5, 3, 3, 2, 3, 1, 1, 1,\n",
       "       4, 3, 5, 1, 4, 4, 4, 3, 5, 2, 1, 2, 2, 1, 1, 1, 3, 1, 5, 5, 3, 4,\n",
       "       5, 4, 3, 3, 4, 5, 4, 5, 5, 5, 4, 3, 3, 1, 3, 3, 5, 4, 2, 1, 1, 1,\n",
       "       2, 3, 1, 4, 2, 1, 4, 4, 1, 5, 2, 4, 3, 5, 5, 2, 5, 5, 5, 4, 1, 1,\n",
       "       3, 3, 5, 3, 3, 1, 1, 5, 4, 4, 1, 5, 3, 4, 3, 4, 5, 4, 5, 2, 2, 3,\n",
       "       5, 2, 2, 5, 3, 2, 5, 1, 3, 1, 2, 4, 5, 2], dtype=int64)"
      ]
     },
     "metadata": {},
     "execution_count": 3
    }
   ],
   "source": [
    "from sklearn.ensemble import RandomForestClassifier\n",
    "from sklearn.metrics import accuracy_score\n",
    "\n",
    "rnd_clf = RandomForestClassifier(n_estimators=100, max_leaf_nodes=10, n_jobs=-1, random_state=42)\n",
    "rnd_clf.fit(x_train, y_train)\n",
    "\n",
    "pred_train = rnd_clf.predict(x_train)\n",
    "pred_train"
   ]
  },
  {
   "cell_type": "code",
   "execution_count": 4,
   "metadata": {},
   "outputs": [
    {
     "output_type": "stream",
     "name": "stdout",
     "text": [
      "1.0\n"
     ]
    }
   ],
   "source": [
    "print(accuracy_score(y_train, pred_train))"
   ]
  },
  {
   "cell_type": "code",
   "execution_count": 5,
   "metadata": {},
   "outputs": [
    {
     "output_type": "execute_result",
     "data": {
      "text/plain": [
       "array([3, 1, 1, 5, 1, 4, 2, 2, 4, 2, 4, 1, 4, 1, 4, 4, 1, 4, 5, 2, 1, 3,\n",
       "       1, 4, 4, 2, 5, 3, 3, 5, 1, 2, 1, 5, 3, 2, 1, 1, 3, 3, 4, 4, 1, 3,\n",
       "       2, 2, 2, 1, 1, 1, 4, 2, 4, 3, 3, 5, 2, 1, 3, 2, 2, 4, 2, 1, 5, 1,\n",
       "       4, 3, 3, 2, 2, 3, 5, 5, 5], dtype=int64)"
      ]
     },
     "metadata": {},
     "execution_count": 5
    }
   ],
   "source": [
    "pred_test = rnd_clf.predict(x_test)\n",
    "pred_test"
   ]
  },
  {
   "cell_type": "code",
   "execution_count": 6,
   "metadata": {},
   "outputs": [
    {
     "output_type": "stream",
     "name": "stdout",
     "text": [
      "1.0\n"
     ]
    }
   ],
   "source": [
    "print(accuracy_score(y_test, pred_test))"
   ]
  },
  {
   "cell_type": "code",
   "execution_count": null,
   "metadata": {},
   "outputs": [],
   "source": []
  }
 ]
}
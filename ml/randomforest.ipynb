{
 "cells": [
  {
   "cell_type": "code",
   "execution_count": 1,
   "metadata": {},
   "outputs": [],
   "source": [
    "import numpy as np\n",
    "import pandas as pd\n",
    "\n",
    "df_all = pd.read_csv('../ml_data/data.csv')"
   ]
  },
  {
   "cell_type": "code",
   "execution_count": 2,
   "metadata": {},
   "outputs": [
    {
     "name": "stdout",
     "output_type": "stream",
     "text": [
      "TRAIN ACC FOLD #1 : 0.9735294117647059\n",
      "TEST ACC FOLD #1 : 0.9764705882352941\n",
      "[0 0 0 0 0 0 0 0 0 0 1 1 1 1 1 1 1 1 1 2 2 2 2 2 2 2 2 2 2 2 2 3 3 3 3 3 3\n",
      " 3 3 3 3 3 3 3 3 3 3 3 3 3 3 3 3 3 3 3 3 3 3 3 3 3 3 3 4 4 4 4 4 4 4 4 4 4\n",
      " 5 5 5 5 6 6 6 6 6 6 6]\n",
      "[0 0 0 0 0 0 0 6 0 0 1 1 1 0 1 1 1 1 1 2 2 2 2 2 2 2 2 2 2 2 2 3 3 3 3 3 3\n",
      " 3 3 3 3 3 3 3 3 3 3 3 3 3 3 3 3 3 3 3 3 3 3 3 3 3 3 3 4 4 4 4 4 4 4 4 4 4\n",
      " 5 5 5 5 6 6 6 6 6 6 6]\n",
      "\n",
      "TRAIN ACC FOLD #2 : 0.9823529411764705\n",
      "TEST ACC FOLD #2 : 0.9647058823529412\n",
      "[0 0 0 0 0 0 0 0 0 1 1 1 1 1 1 1 1 1 1 1 1 1 2 2 2 2 3 3 3 3 3 3 3 3 3 3 3\n",
      " 3 3 3 3 3 3 3 3 3 3 3 3 3 3 4 4 4 4 4 4 4 4 5 5 5 5 5 5 5 5 5 5 5 5 5 5 6\n",
      " 6 6 6 6 6 6 6 6 6 6 6]\n",
      "[0 0 0 0 0 0 0 0 0 0 1 1 1 1 0 0 1 1 1 1 1 1 2 2 2 2 3 3 3 3 3 3 3 3 3 3 3\n",
      " 3 3 3 3 3 3 3 3 3 3 3 3 3 3 4 4 4 4 4 4 4 4 5 5 5 5 5 5 5 5 5 5 5 5 5 5 6\n",
      " 6 6 6 6 6 6 6 6 6 6 6]\n",
      "\n",
      "TRAIN ACC FOLD #3 : 0.9941176470588236\n",
      "TEST ACC FOLD #3 : 0.9294117647058824\n",
      "[0 0 0 0 0 0 0 0 0 0 1 1 1 1 1 1 1 1 1 1 1 1 2 2 2 2 2 2 2 2 2 2 2 3 3 3 3\n",
      " 3 3 3 3 3 3 3 3 3 3 3 3 3 3 3 4 4 4 4 4 4 4 4 5 5 5 5 5 5 5 5 5 5 5 5 5 6\n",
      " 6 6 6 6 6 6 6 6 6 6 6]\n",
      "[0 0 0 0 0 0 0 1 0 0 1 0 1 0 0 0 1 1 1 1 1 1 2 2 2 2 2 2 2 2 2 2 2 3 3 3 3\n",
      " 3 3 3 3 3 3 3 3 3 3 3 3 3 3 3 4 4 4 4 4 4 4 4 5 5 5 5 5 3 5 5 5 5 5 5 5 6\n",
      " 6 6 6 6 6 6 6 6 6 6 6]\n",
      "\n",
      "TRAIN ACC FOLD #4 : 0.9823529411764705\n",
      "TEST ACC FOLD #4 : 1.0\n",
      "[0 0 0 0 0 0 0 0 0 0 0 0 1 1 1 1 1 1 1 2 2 2 2 2 2 2 2 2 2 3 3 3 3 3 3 3 3\n",
      " 3 3 3 3 3 3 3 3 3 3 3 3 3 3 3 3 4 4 4 4 4 4 4 4 4 4 4 4 5 5 5 5 5 5 5 5 5\n",
      " 5 6 6 6 6 6 6 6 6 6 6]\n",
      "[0 0 0 0 0 0 0 0 0 0 0 0 1 1 1 1 1 1 1 2 2 2 2 2 2 2 2 2 2 3 3 3 3 3 3 3 3\n",
      " 3 3 3 3 3 3 3 3 3 3 3 3 3 3 3 3 4 4 4 4 4 4 4 4 4 4 4 4 5 5 5 5 5 5 5 5 5\n",
      " 5 6 6 6 6 6 6 6 6 6 6]\n",
      "\n",
      "TRAIN ACC FOLD #5 : 0.9882352941176471\n",
      "TEST ACC FOLD #5 : 0.9882352941176471\n",
      "[0 0 0 0 0 0 0 0 0 1 1 1 1 1 1 1 1 1 2 2 2 2 2 2 2 2 2 2 2 2 2 3 3 3 3 3 3\n",
      " 3 3 3 3 3 3 3 3 3 3 3 3 3 3 3 3 3 3 4 4 4 4 4 4 4 4 4 4 4 4 5 5 5 5 5 5 5\n",
      " 5 5 6 6 6 6 6 6 6 6 6]\n",
      "[0 1 0 0 0 0 0 0 0 1 1 1 1 1 1 1 1 1 2 2 2 2 2 2 2 2 2 2 2 2 2 3 3 3 3 3 3\n",
      " 3 3 3 3 3 3 3 3 3 3 3 3 3 3 3 3 3 3 4 4 4 4 4 4 4 4 4 4 4 4 5 5 5 5 5 5 5\n",
      " 5 5 6 6 6 6 6 6 6 6 6]\n",
      "\n"
     ]
    }
   ],
   "source": [
    "from sklearn.model_selection import KFold\n",
    "from sklearn.ensemble import RandomForestClassifier\n",
    "from sklearn.metrics import accuracy_score\n",
    "\n",
    "X = df_all.iloc[:,:-1].values\n",
    "y = df_all.iloc[:,-1].values\n",
    "\n",
    "kf = KFold(n_splits=5, shuffle=True, random_state=12321)\n",
    "\n",
    "fold_n = 1\n",
    "for train_idx, test_idx in kf.split(X):\n",
    "    X_train, X_test = X[train_idx], X[test_idx]\n",
    "    y_train, y_test = y[train_idx], y[test_idx]\n",
    "    \n",
    "    clf = RandomForestClassifier(n_estimators=100, n_jobs=-1, random_state=42)\n",
    "    clf.fit(X_train, y_train)\n",
    "\n",
    "    pred_train = clf.predict(X_train)\n",
    "    print('TRAIN ACC FOLD #'+str(fold_n)+' : ', end='')\n",
    "    print(accuracy_score(y_train, pred_train))\n",
    "    \n",
    "    pred_test = clf.predict(X_test)\n",
    "    print('TEST ACC FOLD #'+str(fold_n)+' : ', end='')\n",
    "    print(accuracy_score(y_test, pred_test))\n",
    "    print(y_test)\n",
    "    print(pred_test)\n",
    "    print()\n",
    "\n",
    "    fold_n += 1\n"
   ]
  },
  {
   "cell_type": "code",
   "execution_count": 3,
   "metadata": {},
   "outputs": [
    {
     "data": {
      "text/plain": [
       "['../ml_data/input_dataframe.plk']"
      ]
     },
     "execution_count": 3,
     "metadata": {},
     "output_type": "execute_result"
    }
   ],
   "source": [
    "import joblib\n",
    "\n",
    "clf = RandomForestClassifier(n_estimators=100, n_jobs=-1, random_state=42)\n",
    "clf.fit(X, y)\n",
    "\n",
    "joblib.dump(clf, '../ml_data/model_randomforest.plk')\n",
    "joblib.dump(pd.DataFrame(columns=df_all[:0].columns[:-1]), '../ml_data/input_dataframe.plk')"
   ]
  },
  {
   "cell_type": "code",
   "execution_count": null,
   "metadata": {},
   "outputs": [],
   "source": []
  }
 ],
 "metadata": {
  "kernelspec": {
   "display_name": "skplanet-wps",
   "language": "python",
   "name": "skplanet-wps"
  },
  "language_info": {
   "codemirror_mode": {
    "name": "ipython",
    "version": 3
   },
   "file_extension": ".py",
   "mimetype": "text/x-python",
   "name": "python",
   "nbconvert_exporter": "python",
   "pygments_lexer": "ipython3",
   "version": "3.8.5"
  }
 },
 "nbformat": 4,
 "nbformat_minor": 2
}

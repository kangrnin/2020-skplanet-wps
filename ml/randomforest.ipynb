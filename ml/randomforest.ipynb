{
 "metadata": {
  "language_info": {
   "codemirror_mode": {
    "name": "ipython",
    "version": 3
   },
   "file_extension": ".py",
   "mimetype": "text/x-python",
   "name": "python",
   "nbconvert_exporter": "python",
   "pygments_lexer": "ipython3",
   "version": "3.8.5-final"
  },
  "orig_nbformat": 2,
  "kernelspec": {
   "name": "Python 3.8.5 64-bit ('skplanet-wps': conda)",
   "display_name": "Python 3.8.5 64-bit ('skplanet-wps': conda)",
   "metadata": {
    "interpreter": {
     "hash": "1b21888daaddc9fb1f90179f0ba7cb36a844e9f70f4cd5365474a8b3fc47e882"
    }
   }
  }
 },
 "nbformat": 4,
 "nbformat_minor": 2,
 "cells": [
  {
   "cell_type": "code",
   "execution_count": 11,
   "metadata": {},
   "outputs": [
    {
     "output_type": "execute_result",
     "data": {
      "text/plain": [
       "     54:d1:63:2d:66:24  88:3c:1c:57:04:5d  b4:a9:4f:1a:d4:3e  \\\n",
       "0                    0                  0                  0   \n",
       "1                    0                  0                  0   \n",
       "2                    0                  0                  0   \n",
       "3                    0                  0                  0   \n",
       "4                    0                  0                  0   \n",
       "..                 ...                ...                ...   \n",
       "145                  0                  0                  0   \n",
       "146                  0                  0                  0   \n",
       "147                  0                  0                  0   \n",
       "148                  0                  0                  0   \n",
       "149                  0                  0                  0   \n",
       "\n",
       "     18:c5:01:9d:6c:03  18:c5:01:15:2c:26  08:5d:dd:1b:63:02  \\\n",
       "0                    0                  0                  0   \n",
       "1                    0                  0                  0   \n",
       "2                    0                  0                  0   \n",
       "3                    0                  0                  0   \n",
       "4                    0                 43                  0   \n",
       "..                 ...                ...                ...   \n",
       "145                  0                  0                  0   \n",
       "146                  0                  0                  0   \n",
       "147                  0                  0                  0   \n",
       "148                  0                  0                  0   \n",
       "149                  0                  0                  0   \n",
       "\n",
       "     ba:3c:1c:65:2c:c6  88:3c:1c:10:95:58  88:36:6c:8b:26:24  \\\n",
       "0                    0                  0                 99   \n",
       "1                    0                  0                 99   \n",
       "2                    0                  0                 99   \n",
       "3                    0                  0                 99   \n",
       "4                    0                  0                 99   \n",
       "..                 ...                ...                ...   \n",
       "145                  0                  0                  0   \n",
       "146                  0                  0                  0   \n",
       "147                  0                  0                 67   \n",
       "148                  0                  0                 67   \n",
       "149                  0                 46                 70   \n",
       "\n",
       "     88:3c:1c:c7:9a:3e  ...  54:d1:63:12:53:4b  12:23:aa:b5:9b:9a  \\\n",
       "0                    0  ...                  0                  0   \n",
       "1                    0  ...                  0                  0   \n",
       "2                    0  ...                  0                  0   \n",
       "3                    0  ...                  0                  0   \n",
       "4                    0  ...                  0                  0   \n",
       "..                 ...  ...                ...                ...   \n",
       "145                  0  ...                  0                  0   \n",
       "146                  0  ...                  0                  0   \n",
       "147                  0  ...                  0                  0   \n",
       "148                  0  ...                  0                  0   \n",
       "149                  0  ...                  0                  0   \n",
       "\n",
       "     12:23:aa:5a:d6:f9  18:c5:01:9d:6c:02  00:23:aa:69:3c:01  \\\n",
       "0                    0                  0                 50   \n",
       "1                    0                  0                 53   \n",
       "2                    0                  0                 57   \n",
       "3                    0                  0                 53   \n",
       "4                    0                  0                 62   \n",
       "..                 ...                ...                ...   \n",
       "145                  0                  0                 93   \n",
       "146                 81                  0                 94   \n",
       "147                 81                  0                 92   \n",
       "148                 81                  0                 93   \n",
       "149                 81                  0                 93   \n",
       "\n",
       "     12:23:aa:69:3c:02  42:23:aa:69:3c:01  b4:a9:4f:70:ce:4c  \\\n",
       "0                   83                 40                  0   \n",
       "1                   84                  0                  0   \n",
       "2                   85                  0                  0   \n",
       "3                   85                 53                  0   \n",
       "4                   86                 53                  0   \n",
       "..                 ...                ...                ...   \n",
       "145                 99                 92                  0   \n",
       "146                  0                 92                  0   \n",
       "147                 99                 93                  0   \n",
       "148                 99                 92                  0   \n",
       "149                 99                 92                  0   \n",
       "\n",
       "     00:23:aa:b6:2d:aa  rp  \n",
       "0                    0   1  \n",
       "1                    0   1  \n",
       "2                    0   1  \n",
       "3                    0   1  \n",
       "4                    0   1  \n",
       "..                 ...  ..  \n",
       "145                  0   5  \n",
       "146                  0   5  \n",
       "147                  0   5  \n",
       "148                  0   5  \n",
       "149                  0   5  \n",
       "\n",
       "[150 rows x 49 columns]"
      ],
      "text/html": "<div>\n<style scoped>\n    .dataframe tbody tr th:only-of-type {\n        vertical-align: middle;\n    }\n\n    .dataframe tbody tr th {\n        vertical-align: top;\n    }\n\n    .dataframe thead th {\n        text-align: right;\n    }\n</style>\n<table border=\"1\" class=\"dataframe\">\n  <thead>\n    <tr style=\"text-align: right;\">\n      <th></th>\n      <th>54:d1:63:2d:66:24</th>\n      <th>88:3c:1c:57:04:5d</th>\n      <th>b4:a9:4f:1a:d4:3e</th>\n      <th>18:c5:01:9d:6c:03</th>\n      <th>18:c5:01:15:2c:26</th>\n      <th>08:5d:dd:1b:63:02</th>\n      <th>ba:3c:1c:65:2c:c6</th>\n      <th>88:3c:1c:10:95:58</th>\n      <th>88:36:6c:8b:26:24</th>\n      <th>88:3c:1c:c7:9a:3e</th>\n      <th>...</th>\n      <th>54:d1:63:12:53:4b</th>\n      <th>12:23:aa:b5:9b:9a</th>\n      <th>12:23:aa:5a:d6:f9</th>\n      <th>18:c5:01:9d:6c:02</th>\n      <th>00:23:aa:69:3c:01</th>\n      <th>12:23:aa:69:3c:02</th>\n      <th>42:23:aa:69:3c:01</th>\n      <th>b4:a9:4f:70:ce:4c</th>\n      <th>00:23:aa:b6:2d:aa</th>\n      <th>rp</th>\n    </tr>\n  </thead>\n  <tbody>\n    <tr>\n      <th>0</th>\n      <td>0</td>\n      <td>0</td>\n      <td>0</td>\n      <td>0</td>\n      <td>0</td>\n      <td>0</td>\n      <td>0</td>\n      <td>0</td>\n      <td>99</td>\n      <td>0</td>\n      <td>...</td>\n      <td>0</td>\n      <td>0</td>\n      <td>0</td>\n      <td>0</td>\n      <td>50</td>\n      <td>83</td>\n      <td>40</td>\n      <td>0</td>\n      <td>0</td>\n      <td>1</td>\n    </tr>\n    <tr>\n      <th>1</th>\n      <td>0</td>\n      <td>0</td>\n      <td>0</td>\n      <td>0</td>\n      <td>0</td>\n      <td>0</td>\n      <td>0</td>\n      <td>0</td>\n      <td>99</td>\n      <td>0</td>\n      <td>...</td>\n      <td>0</td>\n      <td>0</td>\n      <td>0</td>\n      <td>0</td>\n      <td>53</td>\n      <td>84</td>\n      <td>0</td>\n      <td>0</td>\n      <td>0</td>\n      <td>1</td>\n    </tr>\n    <tr>\n      <th>2</th>\n      <td>0</td>\n      <td>0</td>\n      <td>0</td>\n      <td>0</td>\n      <td>0</td>\n      <td>0</td>\n      <td>0</td>\n      <td>0</td>\n      <td>99</td>\n      <td>0</td>\n      <td>...</td>\n      <td>0</td>\n      <td>0</td>\n      <td>0</td>\n      <td>0</td>\n      <td>57</td>\n      <td>85</td>\n      <td>0</td>\n      <td>0</td>\n      <td>0</td>\n      <td>1</td>\n    </tr>\n    <tr>\n      <th>3</th>\n      <td>0</td>\n      <td>0</td>\n      <td>0</td>\n      <td>0</td>\n      <td>0</td>\n      <td>0</td>\n      <td>0</td>\n      <td>0</td>\n      <td>99</td>\n      <td>0</td>\n      <td>...</td>\n      <td>0</td>\n      <td>0</td>\n      <td>0</td>\n      <td>0</td>\n      <td>53</td>\n      <td>85</td>\n      <td>53</td>\n      <td>0</td>\n      <td>0</td>\n      <td>1</td>\n    </tr>\n    <tr>\n      <th>4</th>\n      <td>0</td>\n      <td>0</td>\n      <td>0</td>\n      <td>0</td>\n      <td>43</td>\n      <td>0</td>\n      <td>0</td>\n      <td>0</td>\n      <td>99</td>\n      <td>0</td>\n      <td>...</td>\n      <td>0</td>\n      <td>0</td>\n      <td>0</td>\n      <td>0</td>\n      <td>62</td>\n      <td>86</td>\n      <td>53</td>\n      <td>0</td>\n      <td>0</td>\n      <td>1</td>\n    </tr>\n    <tr>\n      <th>...</th>\n      <td>...</td>\n      <td>...</td>\n      <td>...</td>\n      <td>...</td>\n      <td>...</td>\n      <td>...</td>\n      <td>...</td>\n      <td>...</td>\n      <td>...</td>\n      <td>...</td>\n      <td>...</td>\n      <td>...</td>\n      <td>...</td>\n      <td>...</td>\n      <td>...</td>\n      <td>...</td>\n      <td>...</td>\n      <td>...</td>\n      <td>...</td>\n      <td>...</td>\n      <td>...</td>\n    </tr>\n    <tr>\n      <th>145</th>\n      <td>0</td>\n      <td>0</td>\n      <td>0</td>\n      <td>0</td>\n      <td>0</td>\n      <td>0</td>\n      <td>0</td>\n      <td>0</td>\n      <td>0</td>\n      <td>0</td>\n      <td>...</td>\n      <td>0</td>\n      <td>0</td>\n      <td>0</td>\n      <td>0</td>\n      <td>93</td>\n      <td>99</td>\n      <td>92</td>\n      <td>0</td>\n      <td>0</td>\n      <td>5</td>\n    </tr>\n    <tr>\n      <th>146</th>\n      <td>0</td>\n      <td>0</td>\n      <td>0</td>\n      <td>0</td>\n      <td>0</td>\n      <td>0</td>\n      <td>0</td>\n      <td>0</td>\n      <td>0</td>\n      <td>0</td>\n      <td>...</td>\n      <td>0</td>\n      <td>0</td>\n      <td>81</td>\n      <td>0</td>\n      <td>94</td>\n      <td>0</td>\n      <td>92</td>\n      <td>0</td>\n      <td>0</td>\n      <td>5</td>\n    </tr>\n    <tr>\n      <th>147</th>\n      <td>0</td>\n      <td>0</td>\n      <td>0</td>\n      <td>0</td>\n      <td>0</td>\n      <td>0</td>\n      <td>0</td>\n      <td>0</td>\n      <td>67</td>\n      <td>0</td>\n      <td>...</td>\n      <td>0</td>\n      <td>0</td>\n      <td>81</td>\n      <td>0</td>\n      <td>92</td>\n      <td>99</td>\n      <td>93</td>\n      <td>0</td>\n      <td>0</td>\n      <td>5</td>\n    </tr>\n    <tr>\n      <th>148</th>\n      <td>0</td>\n      <td>0</td>\n      <td>0</td>\n      <td>0</td>\n      <td>0</td>\n      <td>0</td>\n      <td>0</td>\n      <td>0</td>\n      <td>67</td>\n      <td>0</td>\n      <td>...</td>\n      <td>0</td>\n      <td>0</td>\n      <td>81</td>\n      <td>0</td>\n      <td>93</td>\n      <td>99</td>\n      <td>92</td>\n      <td>0</td>\n      <td>0</td>\n      <td>5</td>\n    </tr>\n    <tr>\n      <th>149</th>\n      <td>0</td>\n      <td>0</td>\n      <td>0</td>\n      <td>0</td>\n      <td>0</td>\n      <td>0</td>\n      <td>0</td>\n      <td>46</td>\n      <td>70</td>\n      <td>0</td>\n      <td>...</td>\n      <td>0</td>\n      <td>0</td>\n      <td>81</td>\n      <td>0</td>\n      <td>93</td>\n      <td>99</td>\n      <td>92</td>\n      <td>0</td>\n      <td>0</td>\n      <td>5</td>\n    </tr>\n  </tbody>\n</table>\n<p>150 rows × 49 columns</p>\n</div>"
     },
     "metadata": {},
     "execution_count": 11
    }
   ],
   "source": [
    "import numpy as numpy\n",
    "import pandas as pd\n",
    "\n",
    "df_all = pd.read_csv('../processed_data/data.csv')\n",
    "\n",
    "df_all"
   ]
  },
  {
   "cell_type": "code",
   "execution_count": 14,
   "metadata": {},
   "outputs": [
    {
     "output_type": "execute_result",
     "data": {
      "text/plain": [
       "array([[ 0,  0,  0, ..., 40,  0,  0],\n",
       "       [ 0,  0,  0, ...,  0,  0,  0],\n",
       "       [ 0,  0,  0, ...,  0,  0,  0],\n",
       "       ...,\n",
       "       [ 0,  0,  0, ..., 93,  0,  0],\n",
       "       [ 0,  0,  0, ..., 92,  0,  0],\n",
       "       [ 0,  0,  0, ..., 92,  0,  0]], dtype=int64)"
      ]
     },
     "metadata": {},
     "execution_count": 14
    }
   ],
   "source": [
    "x_train = df_all.iloc[:,:-1].values\n",
    "y_train = df_all.iloc[:,-1].values\n",
    "\n",
    "x_train"
   ]
  },
  {
   "cell_type": "code",
   "execution_count": 16,
   "metadata": {},
   "outputs": [
    {
     "output_type": "execute_result",
     "data": {
      "text/plain": [
       "array([1, 1, 1, 1, 1, 1, 1, 1, 1, 1, 1, 1, 1, 1, 1, 1, 1, 1, 1, 1, 1, 1,\n",
       "       1, 1, 1, 1, 1, 1, 1, 1, 2, 2, 2, 2, 2, 2, 2, 2, 2, 2, 2, 2, 2, 2,\n",
       "       2, 2, 2, 2, 2, 2, 2, 2, 2, 2, 2, 2, 2, 2, 2, 2, 3, 3, 3, 3, 3, 3,\n",
       "       3, 3, 3, 3, 3, 3, 3, 3, 3, 3, 3, 3, 3, 3, 3, 3, 3, 3, 3, 3, 3, 3,\n",
       "       3, 3, 4, 4, 4, 4, 4, 4, 4, 4, 4, 4, 4, 4, 4, 4, 4, 4, 4, 4, 4, 4,\n",
       "       4, 4, 4, 4, 4, 4, 4, 4, 4, 4, 5, 5, 5, 5, 5, 5, 5, 5, 5, 5, 5, 5,\n",
       "       5, 5, 5, 5, 5, 5, 5, 5, 5, 5, 5, 5, 5, 5, 5, 5, 5, 5], dtype=int64)"
      ]
     },
     "metadata": {},
     "execution_count": 16
    }
   ],
   "source": [
    "from sklearn.ensemble import RandomForestClassifier\n",
    "\n",
    "rnd_clf = RandomForestClassifier(n_estimators=200, max_leaf_nodes=16, n_jobs=-1, random_state=42)\n",
    "rnd_clf.fit(x_train, y_train)\n",
    "\n",
    "pred = rnd_clf.predict(x_train)\n",
    "pred"
   ]
  },
  {
   "cell_type": "code",
   "execution_count": null,
   "metadata": {},
   "outputs": [],
   "source": []
  }
 ]
}
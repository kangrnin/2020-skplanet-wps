{
 "metadata": {
  "language_info": {
   "codemirror_mode": {
    "name": "ipython",
    "version": 3
   },
   "file_extension": ".py",
   "mimetype": "text/x-python",
   "name": "python",
   "nbconvert_exporter": "python",
   "pygments_lexer": "ipython3",
   "version": "3.8.5-final"
  },
  "orig_nbformat": 2,
  "kernelspec": {
   "name": "Python 3.8.5 64-bit ('skplanet-wps': conda)",
   "display_name": "Python 3.8.5 64-bit ('skplanet-wps': conda)",
   "metadata": {
    "interpreter": {
     "hash": "1b21888daaddc9fb1f90179f0ba7cb36a844e9f70f4cd5365474a8b3fc47e882"
    }
   }
  }
 },
 "nbformat": 4,
 "nbformat_minor": 2,
 "cells": [
  {
   "cell_type": "code",
   "execution_count": 1,
   "metadata": {},
   "outputs": [],
   "source": [
    "import numpy as np\n",
    "import pandas as pd\n",
    "import matplotlib.pyplot as plt\n",
    "import joblib\n",
    "\n",
    "model_rdf = joblib.load('../ml_data/model_randomforest.plk')\n",
    "model_svm = joblib.load('../ml_data/model_svm.plk')\n",
    "\n",
    "rp_cnt = model_rdf.n_classes_\n",
    "#rp_name = joblib.load('../ml_data/rp_name.plk')\n",
    "rp_name = {0:'오픈소스 문쪽', 1:'오픈소스 창쪽', 2:'코워킹 앞 책상', 3:'오픈소스, 코워킹 사이 복도', 4:'반도체관 끝쪽', 5:'커넥션 카페 앞 복도', 6:'오픈소스 1번실'}\n",
    "\n",
    "wifi_df = joblib.load('../ml_data/input_dataframe.plk')"
   ]
  },
  {
   "cell_type": "code",
   "execution_count": 2,
   "metadata": {
    "tags": []
   },
   "outputs": [
    {
     "output_type": "stream",
     "name": "stdout",
     "text": [
      "RDF : 오픈소스, 코워킹 사이 복도\n",
      "[오픈소스 문쪽] : 0.09\n",
      "[오픈소스 창쪽] : 0.11\n",
      "[코워킹 앞 책상] : 0.18\n",
      "[오픈소스, 코워킹 사이 복도] : 0.43\n",
      "[반도체관 끝쪽] : 0.09\n",
      "[커넥션 카페 앞 복도] : 0.03\n",
      "[오픈소스 1번실] : 0.07\n",
      "\n",
      "SVM : 오픈소스, 코워킹 사이 복도\n",
      "[오픈소스 문쪽] : 0.09\n",
      "[오픈소스 창쪽] : 0.11\n",
      "[코워킹 앞 책상] : 0.18\n",
      "[오픈소스, 코워킹 사이 복도] : 0.43\n",
      "[반도체관 끝쪽] : 0.09\n",
      "[커넥션 카페 앞 복도] : 0.03\n",
      "[오픈소스 1번실] : 0.07\n",
      "\n",
      "\n",
      "RDF : 오픈소스, 코워킹 사이 복도\n",
      "[오픈소스 문쪽] : 0.09\n",
      "[오픈소스 창쪽] : 0.11\n",
      "[코워킹 앞 책상] : 0.18\n",
      "[오픈소스, 코워킹 사이 복도] : 0.43\n",
      "[반도체관 끝쪽] : 0.09\n",
      "[커넥션 카페 앞 복도] : 0.03\n",
      "[오픈소스 1번실] : 0.07\n",
      "\n",
      "SVM : 오픈소스, 코워킹 사이 복도\n",
      "[오픈소스 문쪽] : 0.09\n",
      "[오픈소스 창쪽] : 0.11\n",
      "[코워킹 앞 책상] : 0.18\n",
      "[오픈소스, 코워킹 사이 복도] : 0.43\n",
      "[반도체관 끝쪽] : 0.09\n",
      "[커넥션 카페 앞 복도] : 0.03\n",
      "[오픈소스 1번실] : 0.07\n",
      "\n",
      "\n",
      "RDF : 오픈소스, 코워킹 사이 복도\n",
      "[오픈소스 문쪽] : 0.09\n",
      "[오픈소스 창쪽] : 0.11\n",
      "[코워킹 앞 책상] : 0.18\n",
      "[오픈소스, 코워킹 사이 복도] : 0.43\n",
      "[반도체관 끝쪽] : 0.09\n",
      "[커넥션 카페 앞 복도] : 0.03\n",
      "[오픈소스 1번실] : 0.07\n",
      "\n",
      "SVM : 오픈소스, 코워킹 사이 복도\n",
      "[오픈소스 문쪽] : 0.09\n",
      "[오픈소스 창쪽] : 0.11\n",
      "[코워킹 앞 책상] : 0.18\n",
      "[오픈소스, 코워킹 사이 복도] : 0.43\n",
      "[반도체관 끝쪽] : 0.09\n",
      "[커넥션 카페 앞 복도] : 0.03\n",
      "[오픈소스 1번실] : 0.07\n",
      "\n",
      "\n"
     ]
    },
    {
     "output_type": "error",
     "ename": "KeyboardInterrupt",
     "evalue": "",
     "traceback": [
      "\u001b[1;31m---------------------------------------------------------------------------\u001b[0m",
      "\u001b[1;31mKeyboardInterrupt\u001b[0m                         Traceback (most recent call last)",
      "\u001b[1;32m<ipython-input-2-26ef421ec72d>\u001b[0m in \u001b[0;36m<module>\u001b[1;34m\u001b[0m\n\u001b[0;32m      4\u001b[0m \u001b[1;33m\u001b[0m\u001b[0m\n\u001b[0;32m      5\u001b[0m \u001b[1;32mwhile\u001b[0m \u001b[1;32mTrue\u001b[0m\u001b[1;33m:\u001b[0m\u001b[1;33m\u001b[0m\u001b[1;33m\u001b[0m\u001b[0m\n\u001b[1;32m----> 6\u001b[1;33m     \u001b[0mwifis\u001b[0m \u001b[1;33m=\u001b[0m \u001b[0mget_wifis\u001b[0m\u001b[1;33m(\u001b[0m\u001b[1;33m)\u001b[0m\u001b[1;33m\u001b[0m\u001b[1;33m\u001b[0m\u001b[0m\n\u001b[0m\u001b[0;32m      7\u001b[0m \u001b[1;33m\u001b[0m\u001b[0m\n\u001b[0;32m      8\u001b[0m     \u001b[0mwifi_dict\u001b[0m \u001b[1;33m=\u001b[0m \u001b[0mdefaultdict\u001b[0m\u001b[1;33m.\u001b[0m\u001b[0mfromkeys\u001b[0m\u001b[1;33m(\u001b[0m\u001b[0mwifi_df\u001b[0m\u001b[1;33m.\u001b[0m\u001b[0mcolumns\u001b[0m\u001b[1;33m,\u001b[0m \u001b[1;36m0\u001b[0m\u001b[1;33m)\u001b[0m\u001b[1;33m\u001b[0m\u001b[1;33m\u001b[0m\u001b[0m\n",
      "\u001b[1;32md:\\workspaces\\2020-skplanet-wps\\collector\\wifi_bssid.py\u001b[0m in \u001b[0;36mget_wifis\u001b[1;34m()\u001b[0m\n\u001b[0;32m     10\u001b[0m         capture_output=True)\n\u001b[0;32m     11\u001b[0m \u001b[1;33m\u001b[0m\u001b[0m\n\u001b[1;32m---> 12\u001b[1;33m     \u001b[0mtime\u001b[0m\u001b[1;33m.\u001b[0m\u001b[0msleep\u001b[0m\u001b[1;33m(\u001b[0m\u001b[1;36m3\u001b[0m\u001b[1;33m)\u001b[0m\u001b[1;33m\u001b[0m\u001b[1;33m\u001b[0m\u001b[0m\n\u001b[0m\u001b[0;32m     13\u001b[0m     output = subprocess.run(\n\u001b[0;32m     14\u001b[0m         \u001b[1;33m[\u001b[0m\u001b[1;34m'netsh'\u001b[0m\u001b[1;33m,\u001b[0m \u001b[1;34m'wlan'\u001b[0m\u001b[1;33m,\u001b[0m \u001b[1;34m'show'\u001b[0m\u001b[1;33m,\u001b[0m \u001b[1;34m'network'\u001b[0m\u001b[1;33m,\u001b[0m \u001b[1;34m'mode=Bssid'\u001b[0m\u001b[1;33m]\u001b[0m\u001b[1;33m,\u001b[0m\u001b[1;33m\u001b[0m\u001b[1;33m\u001b[0m\u001b[0m\n",
      "\u001b[1;31mKeyboardInterrupt\u001b[0m: "
     ]
    }
   ],
   "source": [
    "sys.path.append('../collector/')\n",
    "from wifi_bssid import get_wifis\n",
    "from collections import defaultdict\n",
    "\n",
    "while True:\n",
    "    wifis = get_wifis()\n",
    "\n",
    "    wifi_dict = defaultdict.fromkeys(wifi_df.columns, 0)\n",
    "    for wifi in wifis:\n",
    "        if wifi['bssid'] in wifi_dict:\n",
    "            wifi_dict[wifi['bssid']] = int(wifi['signal'][:-1])\n",
    "\n",
    "    wifi_df = wifi_df.append(pd.DataFrame.from_dict([wifi_dict]))\n",
    "\n",
    "    result_rdf = model_rdf.predict(wifi_df.tail(1))\n",
    "    result_svm = model_svm.predict(wifi_df.tail(1))\n",
    "    proba_rdf = model_rdf.predict_proba(wifi_df.tail(1))\n",
    "    proba_svm = model_svm.predict_proba(wifi_df.tail(1))\n",
    "\n",
    "    print(f'RDF : {rp_name[result_rdf[0]]}')\n",
    "    for i in range(rp_cnt):\n",
    "        print(f'[{rp_name[i]}] : {proba_rdf[0][i]:.2f}')\n",
    "\n",
    "    print('')\n",
    "\n",
    "    print(f'SVM : {rp_name[result_svm[0]]}')\n",
    "    for i in range(rp_cnt):\n",
    "        print(f'[{rp_name[i]}] : {proba_svm[0][i]:.2f}')\n",
    "        \n",
    "    print('\\n')\n"
   ]
  },
  {
   "cell_type": "code",
   "execution_count": null,
   "metadata": {},
   "outputs": [],
   "source": []
  }
 ]
}
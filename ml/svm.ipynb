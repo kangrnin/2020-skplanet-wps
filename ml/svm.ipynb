{
 "metadata": {
  "language_info": {
   "codemirror_mode": {
    "name": "ipython",
    "version": 3
   },
   "file_extension": ".py",
   "mimetype": "text/x-python",
   "name": "python",
   "nbconvert_exporter": "python",
   "pygments_lexer": "ipython3",
   "version": "3.8.5-final"
  },
  "orig_nbformat": 2,
  "kernelspec": {
   "name": "Python 3.8.5 64-bit ('skplanet-wps': conda)",
   "display_name": "Python 3.8.5 64-bit ('skplanet-wps': conda)",
   "metadata": {
    "interpreter": {
     "hash": "1b21888daaddc9fb1f90179f0ba7cb36a844e9f70f4cd5365474a8b3fc47e882"
    }
   }
  }
 },
 "nbformat": 4,
 "nbformat_minor": 2,
 "cells": [
  {
   "cell_type": "code",
   "execution_count": 1,
   "metadata": {},
   "outputs": [],
   "source": [
    "import numpy as numpy\n",
    "import pandas as pd\n",
    "\n",
    "df_all = pd.read_csv('../ml_data/data.csv')"
   ]
  },
  {
   "cell_type": "code",
   "execution_count": 2,
   "metadata": {},
   "outputs": [
    {
     "output_type": "stream",
     "name": "stdout",
     "text": [
      "TRAIN ACC FOLD #1 : 0.97\nTEST ACC FOLD #1 : 0.8666666666666667\n[1 1 1 1 1 1 1 1 1 1 1 1 1 2 2 2 2 2 2 2 2 2 2 3 3 3 3 3 3 3 3 3 3 3 3 3 3\n 3 3 3 3 3 3 3 3 4 4 4 4 4 4 4 4 4 4 4 4 4 4 5 5 5 5 5 5 5 5 5 5 5 5 5 5 5\n 5]\n[1 1 1 1 1 1 1 1 1 1 1 1 1 2 2 3 2 3 2 2 2 2 2 3 3 3 3 1 3 1 3 3 1 3 1 3 1\n 1 3 3 3 3 3 3 3 4 4 4 4 4 4 4 4 4 4 4 4 4 2 5 5 5 5 5 5 5 5 4 5 5 5 5 5 5\n 5]\n\nTRAIN ACC FOLD #2 : 0.9566666666666667\nTEST ACC FOLD #2 : 0.92\n[1 1 1 1 1 1 1 1 1 1 1 1 1 1 1 1 1 2 2 2 2 2 2 2 2 2 2 2 2 2 2 2 2 3 3 3 3\n 3 3 3 3 3 3 3 3 3 3 3 4 4 4 4 4 4 4 4 4 4 4 4 4 4 5 5 5 5 5 5 5 5 5 5 5 5\n 5]\n[1 1 1 1 1 1 1 1 1 1 1 1 1 1 1 1 1 2 2 2 2 1 2 2 2 2 2 4 2 2 2 2 2 3 3 3 3\n 3 3 3 3 3 1 3 3 3 3 3 4 4 4 4 4 4 4 4 4 5 4 4 4 4 5 5 5 5 5 5 5 5 5 5 4 4\n 5]\n\nTRAIN ACC FOLD #3 : 0.9666666666666667\nTEST ACC FOLD #3 : 0.96\n[1 1 1 1 1 1 1 1 1 1 1 1 1 1 1 1 1 1 1 1 2 2 2 2 2 2 2 2 2 2 2 2 2 3 3 3 3\n 3 3 3 3 3 3 3 4 4 4 4 4 4 4 4 4 4 4 4 4 5 5 5 5 5 5 5 5 5 5 5 5 5 5 5 5 5\n 5]\n[1 1 1 1 1 1 1 1 1 1 1 1 1 1 1 1 1 1 1 1 2 2 2 5 4 2 2 2 2 2 2 2 2 3 3 3 1\n 3 3 3 3 3 3 3 4 4 4 4 4 4 4 4 4 4 4 4 4 5 5 5 5 5 5 5 5 5 5 5 5 5 5 5 5 5\n 5]\n\nTRAIN ACC FOLD #4 : 0.95\nTEST ACC FOLD #4 : 0.9466666666666667\n[1 1 1 1 1 1 1 1 1 1 1 1 1 1 1 2 2 2 2 2 2 2 2 2 2 2 2 2 2 2 2 2 3 3 3 3 3\n 3 3 3 3 3 3 3 3 3 3 3 3 4 4 4 4 4 4 4 4 4 4 4 4 4 5 5 5 5 5 5 5 5 5 5 5 5\n 5]\n[1 1 1 1 1 1 1 1 1 3 1 1 1 1 1 2 2 2 2 2 1 2 2 2 2 2 2 2 2 2 2 2 3 3 3 1 3\n 3 3 3 3 3 3 3 3 3 3 3 3 4 4 4 4 4 4 4 4 4 2 4 4 4 5 5 5 5 5 5 5 5 5 5 5 5\n 5]\n\nTRAIN ACC FOLD #5 : 0.9666666666666667\nTEST ACC FOLD #5 : 0.9333333333333333\n[1 1 1 1 1 1 1 1 1 1 2 2 2 2 2 2 2 2 2 2 2 2 2 2 2 2 2 2 2 3 3 3 3 3 3 3 3\n 3 3 4 4 4 4 4 4 4 4 4 4 4 4 4 4 4 4 4 4 4 4 4 5 5 5 5 5 5 5 5 5 5 5 5 5 5\n 5]\n[1 3 1 1 1 1 1 1 1 1 2 2 2 2 2 2 2 2 2 2 2 4 2 2 2 2 2 2 2 1 3 3 3 3 1 3 3\n 3 3 4 4 4 4 4 4 4 4 4 4 4 4 4 4 4 4 4 4 4 4 4 5 5 5 5 5 5 4 5 5 5 5 5 5 5\n 5]\n\n"
     ]
    }
   ],
   "source": [
    "from sklearn.model_selection import KFold\n",
    "from sklearn import svm\n",
    "from sklearn.metrics import accuracy_score\n",
    "\n",
    "X = df_all.iloc[:,:-1].values\n",
    "y = df_all.iloc[:,-1].values\n",
    "\n",
    "kf = KFold(n_splits=5, shuffle=True, random_state=12321)\n",
    "\n",
    "fold_n = 1\n",
    "for train_idx, test_idx in kf.split(X):\n",
    "    X_train, X_test = X[train_idx], X[test_idx]\n",
    "    y_train, y_test = y[train_idx], y[test_idx]\n",
    "    \n",
    "    clf = svm.SVC(kernel = 'rbf')\n",
    "    clf.fit(X_train, y_train)\n",
    "\n",
    "    pred_train = clf.predict(X_train)\n",
    "    print('TRAIN ACC FOLD #'+str(fold_n)+' : ', end='')\n",
    "    print(accuracy_score(y_train, pred_train))\n",
    "    \n",
    "    pred_test = clf.predict(X_test)\n",
    "    print('TEST ACC FOLD #'+str(fold_n)+' : ', end='')\n",
    "    print(accuracy_score(y_test, pred_test))\n",
    "    print(y_test)\n",
    "    print(pred_test, end='\\n\\n')\n",
    "\n",
    "    fold_n += 1\n"
   ]
  }
 ]
}
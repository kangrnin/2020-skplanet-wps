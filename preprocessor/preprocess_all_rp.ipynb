{
 "cells": [
  {
   "cell_type": "code",
   "execution_count": 6,
   "metadata": {},
   "outputs": [
    {
     "output_type": "stream",
     "name": "stdout",
     "text": [
      "(30, 49)\n(30, 49)\n(30, 49)\n(30, 49)\n(30, 49)\n(150, 49)\n"
     ]
    },
    {
     "output_type": "execute_result",
     "data": {
      "text/plain": [
       "                            88:36:6c:8b:26:24  ...  rp\n",
       "2020-10-05 14:11:48.189351                 99  ...   1\n",
       "2020-10-05 14:11:58.893450                 99  ...   1\n",
       "2020-10-05 14:12:11.247124                 99  ...   1\n",
       "2020-10-05 14:12:21.900013                 99  ...   1\n",
       "2020-10-05 14:12:28.702881                 99  ...   1\n",
       "...                                       ...  ...  ..\n",
       "2020-10-05 15:22:06.603836                  0  ...   5\n",
       "2020-10-05 15:22:17.992633                  0  ...   5\n",
       "2020-10-05 15:22:27.901708                 67  ...   5\n",
       "2020-10-05 15:22:33.439790                 67  ...   5\n",
       "2020-10-05 15:22:46.204647                 70  ...   5\n",
       "\n",
       "[150 rows x 49 columns]"
      ],
      "text/html": "<div>\n<style scoped>\n    .dataframe tbody tr th:only-of-type {\n        vertical-align: middle;\n    }\n\n    .dataframe tbody tr th {\n        vertical-align: top;\n    }\n\n    .dataframe thead th {\n        text-align: right;\n    }\n</style>\n<table border=\"1\" class=\"dataframe\">\n  <thead>\n    <tr style=\"text-align: right;\">\n      <th></th>\n      <th>88:36:6c:8b:26:24</th>\n      <th>70:5d:cc:17:c0:f8</th>\n      <th>88:3c:1c:65:2c:c6</th>\n      <th>00:23:aa:5a:d6:f8</th>\n      <th>18:c5:01:9d:6c:02</th>\n      <th>08:5d:dd:1b:63:02</th>\n      <th>88:3c:1c:10:95:58</th>\n      <th>54:d1:63:12:53:4b</th>\n      <th>00:23:aa:b6:2d:aa</th>\n      <th>88:3c:1c:57:04:5d</th>\n      <th>00:23:aa:b5:9b:9a</th>\n      <th>12:23:aa:69:3c:02</th>\n      <th>42:23:aa:5a:d6:f8</th>\n      <th>12:23:aa:b6:2d:aa</th>\n      <th>60:29:d5:16:58:76</th>\n      <th>08:10:77:3f:68:71</th>\n      <th>54:d1:63:12:53:4c</th>\n      <th>88:3c:1c:c7:9a:3e</th>\n      <th>00:23:aa:5a:d6:f9</th>\n      <th>28:6d:97:88:7a:d5</th>\n      <th>60:29:d5:16:58:77</th>\n      <th>b0:df:c1:53:87:a1</th>\n      <th>b4:a9:4f:70:ce:4c</th>\n      <th>18:c5:01:cc:87:2e</th>\n      <th>00:08:52:34:40:ec</th>\n      <th>88:3c:1c:65:2c:c7</th>\n      <th>88:3c:1c:ce:48:61</th>\n      <th>8a:3c:1c:10:95:58</th>\n      <th>e4:be:ed:96:73:1b</th>\n      <th>42:23:aa:69:3c:01</th>\n      <th>66:29:d5:16:58:76</th>\n      <th>12:23:aa:b5:9b:9a</th>\n      <th>b4:a9:4f:1a:d4:3e</th>\n      <th>88:36:6c:8b:26:26</th>\n      <th>ba:3c:1c:65:2c:c6</th>\n      <th>00:23:aa:69:3c:01</th>\n      <th>54:d1:63:2d:66:24</th>\n      <th>42:23:aa:b5:9b:9a</th>\n      <th>e4:be:ed:96:73:1f</th>\n      <th>88:3c:1c:da:ce:6e</th>\n      <th>88:3c:1c:83:9b:a8</th>\n      <th>18:c5:01:9d:6c:03</th>\n      <th>ba:a9:4f:70:ce:4c</th>\n      <th>18:c5:01:15:2c:26</th>\n      <th>00:23:aa:69:3c:02</th>\n      <th>54:d1:63:2d:66:23</th>\n      <th>12:23:aa:5a:d6:f9</th>\n      <th>88:3c:1c:c7:9d:59</th>\n      <th>rp</th>\n    </tr>\n  </thead>\n  <tbody>\n    <tr>\n      <th>2020-10-05 14:11:48.189351</th>\n      <td>99</td>\n      <td>0</td>\n      <td>0</td>\n      <td>0</td>\n      <td>0</td>\n      <td>0</td>\n      <td>0</td>\n      <td>0</td>\n      <td>0</td>\n      <td>0</td>\n      <td>0</td>\n      <td>83</td>\n      <td>0</td>\n      <td>0</td>\n      <td>0</td>\n      <td>97</td>\n      <td>0</td>\n      <td>0</td>\n      <td>0</td>\n      <td>0</td>\n      <td>0</td>\n      <td>0</td>\n      <td>0</td>\n      <td>0</td>\n      <td>0</td>\n      <td>53</td>\n      <td>0</td>\n      <td>0</td>\n      <td>0</td>\n      <td>40</td>\n      <td>0</td>\n      <td>0</td>\n      <td>0</td>\n      <td>94</td>\n      <td>0</td>\n      <td>50</td>\n      <td>0</td>\n      <td>0</td>\n      <td>0</td>\n      <td>0</td>\n      <td>0</td>\n      <td>0</td>\n      <td>0</td>\n      <td>0</td>\n      <td>83</td>\n      <td>0</td>\n      <td>0</td>\n      <td>67</td>\n      <td>1</td>\n    </tr>\n    <tr>\n      <th>2020-10-05 14:11:58.893450</th>\n      <td>99</td>\n      <td>0</td>\n      <td>0</td>\n      <td>0</td>\n      <td>0</td>\n      <td>0</td>\n      <td>0</td>\n      <td>0</td>\n      <td>0</td>\n      <td>0</td>\n      <td>0</td>\n      <td>84</td>\n      <td>0</td>\n      <td>0</td>\n      <td>0</td>\n      <td>97</td>\n      <td>0</td>\n      <td>0</td>\n      <td>0</td>\n      <td>0</td>\n      <td>0</td>\n      <td>0</td>\n      <td>0</td>\n      <td>0</td>\n      <td>0</td>\n      <td>50</td>\n      <td>0</td>\n      <td>0</td>\n      <td>0</td>\n      <td>0</td>\n      <td>0</td>\n      <td>0</td>\n      <td>0</td>\n      <td>95</td>\n      <td>0</td>\n      <td>53</td>\n      <td>0</td>\n      <td>0</td>\n      <td>0</td>\n      <td>0</td>\n      <td>0</td>\n      <td>0</td>\n      <td>0</td>\n      <td>0</td>\n      <td>85</td>\n      <td>0</td>\n      <td>0</td>\n      <td>62</td>\n      <td>1</td>\n    </tr>\n    <tr>\n      <th>2020-10-05 14:12:11.247124</th>\n      <td>99</td>\n      <td>0</td>\n      <td>0</td>\n      <td>0</td>\n      <td>0</td>\n      <td>0</td>\n      <td>0</td>\n      <td>0</td>\n      <td>0</td>\n      <td>0</td>\n      <td>0</td>\n      <td>85</td>\n      <td>0</td>\n      <td>0</td>\n      <td>0</td>\n      <td>95</td>\n      <td>0</td>\n      <td>0</td>\n      <td>0</td>\n      <td>0</td>\n      <td>0</td>\n      <td>0</td>\n      <td>0</td>\n      <td>0</td>\n      <td>0</td>\n      <td>0</td>\n      <td>0</td>\n      <td>0</td>\n      <td>0</td>\n      <td>0</td>\n      <td>0</td>\n      <td>0</td>\n      <td>0</td>\n      <td>93</td>\n      <td>0</td>\n      <td>57</td>\n      <td>0</td>\n      <td>0</td>\n      <td>0</td>\n      <td>0</td>\n      <td>0</td>\n      <td>0</td>\n      <td>0</td>\n      <td>0</td>\n      <td>85</td>\n      <td>0</td>\n      <td>0</td>\n      <td>0</td>\n      <td>1</td>\n    </tr>\n    <tr>\n      <th>2020-10-05 14:12:21.900013</th>\n      <td>99</td>\n      <td>0</td>\n      <td>0</td>\n      <td>0</td>\n      <td>0</td>\n      <td>0</td>\n      <td>0</td>\n      <td>0</td>\n      <td>0</td>\n      <td>0</td>\n      <td>0</td>\n      <td>85</td>\n      <td>0</td>\n      <td>0</td>\n      <td>0</td>\n      <td>93</td>\n      <td>0</td>\n      <td>0</td>\n      <td>0</td>\n      <td>0</td>\n      <td>0</td>\n      <td>0</td>\n      <td>0</td>\n      <td>0</td>\n      <td>0</td>\n      <td>0</td>\n      <td>0</td>\n      <td>0</td>\n      <td>0</td>\n      <td>53</td>\n      <td>0</td>\n      <td>0</td>\n      <td>0</td>\n      <td>93</td>\n      <td>0</td>\n      <td>53</td>\n      <td>0</td>\n      <td>0</td>\n      <td>0</td>\n      <td>0</td>\n      <td>0</td>\n      <td>0</td>\n      <td>0</td>\n      <td>0</td>\n      <td>85</td>\n      <td>0</td>\n      <td>0</td>\n      <td>0</td>\n      <td>1</td>\n    </tr>\n    <tr>\n      <th>2020-10-05 14:12:28.702881</th>\n      <td>99</td>\n      <td>0</td>\n      <td>0</td>\n      <td>0</td>\n      <td>0</td>\n      <td>0</td>\n      <td>0</td>\n      <td>0</td>\n      <td>0</td>\n      <td>0</td>\n      <td>0</td>\n      <td>86</td>\n      <td>0</td>\n      <td>0</td>\n      <td>0</td>\n      <td>94</td>\n      <td>0</td>\n      <td>0</td>\n      <td>0</td>\n      <td>0</td>\n      <td>0</td>\n      <td>0</td>\n      <td>0</td>\n      <td>0</td>\n      <td>0</td>\n      <td>0</td>\n      <td>0</td>\n      <td>0</td>\n      <td>0</td>\n      <td>53</td>\n      <td>0</td>\n      <td>0</td>\n      <td>0</td>\n      <td>92</td>\n      <td>0</td>\n      <td>62</td>\n      <td>0</td>\n      <td>0</td>\n      <td>0</td>\n      <td>0</td>\n      <td>0</td>\n      <td>0</td>\n      <td>0</td>\n      <td>43</td>\n      <td>85</td>\n      <td>0</td>\n      <td>0</td>\n      <td>65</td>\n      <td>1</td>\n    </tr>\n    <tr>\n      <th>...</th>\n      <td>...</td>\n      <td>...</td>\n      <td>...</td>\n      <td>...</td>\n      <td>...</td>\n      <td>...</td>\n      <td>...</td>\n      <td>...</td>\n      <td>...</td>\n      <td>...</td>\n      <td>...</td>\n      <td>...</td>\n      <td>...</td>\n      <td>...</td>\n      <td>...</td>\n      <td>...</td>\n      <td>...</td>\n      <td>...</td>\n      <td>...</td>\n      <td>...</td>\n      <td>...</td>\n      <td>...</td>\n      <td>...</td>\n      <td>...</td>\n      <td>...</td>\n      <td>...</td>\n      <td>...</td>\n      <td>...</td>\n      <td>...</td>\n      <td>...</td>\n      <td>...</td>\n      <td>...</td>\n      <td>...</td>\n      <td>...</td>\n      <td>...</td>\n      <td>...</td>\n      <td>...</td>\n      <td>...</td>\n      <td>...</td>\n      <td>...</td>\n      <td>...</td>\n      <td>...</td>\n      <td>...</td>\n      <td>...</td>\n      <td>...</td>\n      <td>...</td>\n      <td>...</td>\n      <td>...</td>\n      <td>...</td>\n    </tr>\n    <tr>\n      <th>2020-10-05 15:22:06.603836</th>\n      <td>0</td>\n      <td>0</td>\n      <td>40</td>\n      <td>0</td>\n      <td>0</td>\n      <td>0</td>\n      <td>0</td>\n      <td>0</td>\n      <td>0</td>\n      <td>0</td>\n      <td>0</td>\n      <td>99</td>\n      <td>0</td>\n      <td>0</td>\n      <td>0</td>\n      <td>78</td>\n      <td>0</td>\n      <td>0</td>\n      <td>81</td>\n      <td>80</td>\n      <td>0</td>\n      <td>0</td>\n      <td>0</td>\n      <td>0</td>\n      <td>0</td>\n      <td>70</td>\n      <td>0</td>\n      <td>40</td>\n      <td>0</td>\n      <td>92</td>\n      <td>0</td>\n      <td>0</td>\n      <td>0</td>\n      <td>50</td>\n      <td>0</td>\n      <td>93</td>\n      <td>0</td>\n      <td>0</td>\n      <td>0</td>\n      <td>0</td>\n      <td>0</td>\n      <td>0</td>\n      <td>0</td>\n      <td>0</td>\n      <td>99</td>\n      <td>0</td>\n      <td>0</td>\n      <td>80</td>\n      <td>5</td>\n    </tr>\n    <tr>\n      <th>2020-10-05 15:22:17.992633</th>\n      <td>0</td>\n      <td>0</td>\n      <td>40</td>\n      <td>0</td>\n      <td>0</td>\n      <td>0</td>\n      <td>0</td>\n      <td>0</td>\n      <td>0</td>\n      <td>0</td>\n      <td>0</td>\n      <td>0</td>\n      <td>0</td>\n      <td>0</td>\n      <td>0</td>\n      <td>0</td>\n      <td>0</td>\n      <td>0</td>\n      <td>81</td>\n      <td>80</td>\n      <td>67</td>\n      <td>0</td>\n      <td>0</td>\n      <td>0</td>\n      <td>0</td>\n      <td>0</td>\n      <td>0</td>\n      <td>0</td>\n      <td>0</td>\n      <td>92</td>\n      <td>0</td>\n      <td>0</td>\n      <td>0</td>\n      <td>53</td>\n      <td>0</td>\n      <td>94</td>\n      <td>0</td>\n      <td>0</td>\n      <td>0</td>\n      <td>0</td>\n      <td>0</td>\n      <td>0</td>\n      <td>0</td>\n      <td>0</td>\n      <td>99</td>\n      <td>0</td>\n      <td>81</td>\n      <td>72</td>\n      <td>5</td>\n    </tr>\n    <tr>\n      <th>2020-10-05 15:22:27.901708</th>\n      <td>67</td>\n      <td>0</td>\n      <td>40</td>\n      <td>0</td>\n      <td>0</td>\n      <td>0</td>\n      <td>0</td>\n      <td>0</td>\n      <td>0</td>\n      <td>0</td>\n      <td>0</td>\n      <td>99</td>\n      <td>0</td>\n      <td>0</td>\n      <td>0</td>\n      <td>78</td>\n      <td>0</td>\n      <td>0</td>\n      <td>81</td>\n      <td>80</td>\n      <td>65</td>\n      <td>0</td>\n      <td>0</td>\n      <td>0</td>\n      <td>0</td>\n      <td>75</td>\n      <td>0</td>\n      <td>0</td>\n      <td>0</td>\n      <td>93</td>\n      <td>0</td>\n      <td>0</td>\n      <td>0</td>\n      <td>46</td>\n      <td>0</td>\n      <td>92</td>\n      <td>0</td>\n      <td>0</td>\n      <td>0</td>\n      <td>0</td>\n      <td>0</td>\n      <td>0</td>\n      <td>40</td>\n      <td>0</td>\n      <td>99</td>\n      <td>0</td>\n      <td>81</td>\n      <td>75</td>\n      <td>5</td>\n    </tr>\n    <tr>\n      <th>2020-10-05 15:22:33.439790</th>\n      <td>67</td>\n      <td>0</td>\n      <td>40</td>\n      <td>0</td>\n      <td>0</td>\n      <td>0</td>\n      <td>0</td>\n      <td>0</td>\n      <td>0</td>\n      <td>0</td>\n      <td>0</td>\n      <td>99</td>\n      <td>0</td>\n      <td>0</td>\n      <td>0</td>\n      <td>80</td>\n      <td>0</td>\n      <td>0</td>\n      <td>81</td>\n      <td>78</td>\n      <td>70</td>\n      <td>0</td>\n      <td>0</td>\n      <td>0</td>\n      <td>0</td>\n      <td>70</td>\n      <td>0</td>\n      <td>0</td>\n      <td>0</td>\n      <td>92</td>\n      <td>0</td>\n      <td>0</td>\n      <td>0</td>\n      <td>50</td>\n      <td>0</td>\n      <td>93</td>\n      <td>0</td>\n      <td>0</td>\n      <td>0</td>\n      <td>0</td>\n      <td>0</td>\n      <td>0</td>\n      <td>0</td>\n      <td>0</td>\n      <td>99</td>\n      <td>0</td>\n      <td>81</td>\n      <td>75</td>\n      <td>5</td>\n    </tr>\n    <tr>\n      <th>2020-10-05 15:22:46.204647</th>\n      <td>70</td>\n      <td>0</td>\n      <td>40</td>\n      <td>0</td>\n      <td>0</td>\n      <td>0</td>\n      <td>46</td>\n      <td>0</td>\n      <td>0</td>\n      <td>0</td>\n      <td>0</td>\n      <td>99</td>\n      <td>0</td>\n      <td>0</td>\n      <td>0</td>\n      <td>75</td>\n      <td>0</td>\n      <td>0</td>\n      <td>80</td>\n      <td>80</td>\n      <td>65</td>\n      <td>0</td>\n      <td>0</td>\n      <td>0</td>\n      <td>0</td>\n      <td>67</td>\n      <td>0</td>\n      <td>46</td>\n      <td>0</td>\n      <td>92</td>\n      <td>0</td>\n      <td>0</td>\n      <td>0</td>\n      <td>46</td>\n      <td>0</td>\n      <td>93</td>\n      <td>0</td>\n      <td>0</td>\n      <td>0</td>\n      <td>0</td>\n      <td>50</td>\n      <td>0</td>\n      <td>40</td>\n      <td>0</td>\n      <td>99</td>\n      <td>0</td>\n      <td>81</td>\n      <td>70</td>\n      <td>5</td>\n    </tr>\n  </tbody>\n</table>\n<p>150 rows × 49 columns</p>\n</div>"
     },
     "metadata": {},
     "execution_count": 6
    }
   ],
   "source": [
    "\n",
    "import numpy as np\n",
    "import pandas as pd\n",
    "from collections import defaultdict\n",
    "\n",
    "df_all = pd.DataFrame()\n",
    "\n",
    "bssid_set = set()\n",
    "df_data = list()\n",
    "for i in range(5):\n",
    "    df_data.append(pd.read_csv('../signal_data_filtered/rp_'+str(i+1)+'.csv', header=None))\n",
    "    for wifi_data in df_data[-1].values.tolist():\n",
    "        bssid_set.add(wifi_data[0])\n",
    "\n",
    "for i in range(5):\n",
    "    wifi_datas = df_data[i].values.tolist()\n",
    "\n",
    "    scan_dict = defaultdict(lambda : defaultdict(int).fromkeys(bssid_set, 0))\n",
    "\n",
    "    for wifi_data in wifi_datas:\n",
    "        # key : timestamp, value : bssid, rssi(strength)\n",
    "        scan_dict[wifi_data[2]][wifi_data[0]] = int(wifi_data[1][:-1])\n",
    "    \n",
    "    df_rp = pd.DataFrame.from_dict(scan_dict).transpose()\n",
    "    # label(no. of RP)\n",
    "    df_rp['rp'] = i+1\n",
    "    print(df_rp.shape)\n",
    "    df_all =df_all.append(df_rp)\n",
    "\n",
    "print(df_all.shape)\n",
    "df_all\n"
   ]
  },
  {
   "cell_type": "code",
   "execution_count": null,
   "metadata": {},
   "outputs": [],
   "source": []
  }
 ],
 "metadata": {
  "kernelspec": {
   "display_name": "skplanet-wps",
   "language": "python",
   "name": "skplanet-wps"
  },
  "language_info": {
   "codemirror_mode": {
    "name": "ipython",
    "version": 3
   },
   "file_extension": ".py",
   "mimetype": "text/x-python",
   "name": "python",
   "nbconvert_exporter": "python",
   "pygments_lexer": "ipython3",
   "version": "3.8.5-final"
  }
 },
 "nbformat": 4,
 "nbformat_minor": 4
}
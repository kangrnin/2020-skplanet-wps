{
 "cells": [
  {
   "cell_type": "code",
   "execution_count": 1,
   "metadata": {},
   "outputs": [],
   "source": [
    "import os\n",
    "from pathlib import Path\n",
    "\n",
    "signal_data_path = Path('../ml_data/signal_data')\n",
    "signal_data_path.mkdir(parents=True, exist_ok=True)\n",
    "ml_data_path = Path('../ml_data/data.csv')"
   ]
  },
  {
   "cell_type": "code",
   "execution_count": 2,
   "metadata": {},
   "outputs": [
    {
     "output_type": "stream",
     "name": "stdout",
     "text": [
      "62\n"
     ]
    }
   ],
   "source": [
    "import pandas as pd\n",
    "from collections import defaultdict\n",
    "\n",
    "df_all = pd.DataFrame()\n",
    "\n",
    "bssid_set = set()\n",
    "df_data = list()\n",
    "\n",
    "rp_cnt = 0\n",
    "for file_path in signal_data_path.glob('*.csv'):\n",
    "    rp_cnt += 1\n",
    "    df_signal = pd.read_csv(file_path, header=None)\n",
    "    df_data.append(df_signal)\n",
    "    for wifi_data in df_signal.values.tolist():\n",
    "        bssid_set.add(wifi_data[0])\n",
    "\n",
    "print(len(bssid_set))\n"
   ]
  },
  {
   "cell_type": "code",
   "execution_count": 3,
   "metadata": {},
   "outputs": [
    {
     "output_type": "stream",
     "name": "stdout",
     "text": [
      "(75, 63)\n(75, 63)\n(75, 63)\n(75, 63)\n(75, 63)\n(375, 63)\n"
     ]
    }
   ],
   "source": [
    "for i in range(rp_cnt):\n",
    "    wifi_datas = df_data[i].values.tolist()\n",
    "\n",
    "    scan_dict = defaultdict(lambda : defaultdict(int).fromkeys(bssid_set, 0))\n",
    "\n",
    "    for wifi_data in wifi_datas:\n",
    "        # key : timestamp, value : bssid, rssi(strength)\n",
    "        if wifi_data[0] not in bssid_set:\n",
    "            continue\n",
    "\n",
    "        scan_dict[wifi_data[2]][wifi_data[0]] = int(wifi_data[1][:-1])\n",
    "    \n",
    "    df_rp = pd.DataFrame.from_dict(scan_dict).transpose()\n",
    "    # label(no. of RP)\n",
    "    df_rp['rp'] = i+1\n",
    "    print(df_rp.shape)\n",
    "    df_all = df_all.append(df_rp)\n",
    "\n",
    "print(df_all.shape)\n"
   ]
  },
  {
   "cell_type": "code",
   "execution_count": 4,
   "metadata": {},
   "outputs": [
    {
     "output_type": "execute_result",
     "data": {
      "text/plain": [
       "                            00:03:c0:25:11:3e  00:08:52:34:40:e8  \\\n",
       "2020-10-05 14:11:48.189351                  0                  0   \n",
       "2020-10-05 14:11:58.893450                  0                  0   \n",
       "2020-10-05 14:12:11.247124                  0                  0   \n",
       "2020-10-05 14:12:21.900013                  0                  0   \n",
       "2020-10-05 14:12:28.702881                  0                  0   \n",
       "...                                       ...                ...   \n",
       "2020-10-19 16:19:07.969594                  0                  0   \n",
       "2020-10-19 16:19:15.870573                  0                  0   \n",
       "2020-10-19 16:19:21.000984                  0                  0   \n",
       "2020-10-19 16:19:28.859662                  0                  0   \n",
       "2020-10-19 16:19:36.659163                  0                 40   \n",
       "\n",
       "                            00:08:52:34:40:e9  00:08:52:34:40:ec  \\\n",
       "2020-10-05 14:11:48.189351                  0                  0   \n",
       "2020-10-05 14:11:58.893450                  0                  0   \n",
       "2020-10-05 14:12:11.247124                  0                  0   \n",
       "2020-10-05 14:12:21.900013                  0                  0   \n",
       "2020-10-05 14:12:28.702881                  0                  0   \n",
       "...                                       ...                ...   \n",
       "2020-10-19 16:19:07.969594                  0                  0   \n",
       "2020-10-19 16:19:15.870573                  0                  0   \n",
       "2020-10-19 16:19:21.000984                  0                 40   \n",
       "2020-10-19 16:19:28.859662                  0                  0   \n",
       "2020-10-19 16:19:36.659163                 40                 40   \n",
       "\n",
       "                            00:08:52:5d:3b:ad  00:08:52:5d:3b:af  \\\n",
       "2020-10-05 14:11:48.189351                  0                  0   \n",
       "2020-10-05 14:11:58.893450                  0                  0   \n",
       "2020-10-05 14:12:11.247124                  0                  0   \n",
       "2020-10-05 14:12:21.900013                  0                  0   \n",
       "2020-10-05 14:12:28.702881                  0                  0   \n",
       "...                                       ...                ...   \n",
       "2020-10-19 16:19:07.969594                  0                  0   \n",
       "2020-10-19 16:19:15.870573                  0                 57   \n",
       "2020-10-19 16:19:21.000984                  0                 57   \n",
       "2020-10-19 16:19:28.859662                 57                 60   \n",
       "2020-10-19 16:19:36.659163                 67                 60   \n",
       "\n",
       "                            00:0b:81:9b:d1:6e  00:23:aa:5a:d6:f8  \\\n",
       "2020-10-05 14:11:48.189351                  0                  0   \n",
       "2020-10-05 14:11:58.893450                  0                  0   \n",
       "2020-10-05 14:12:11.247124                  0                  0   \n",
       "2020-10-05 14:12:21.900013                  0                  0   \n",
       "2020-10-05 14:12:28.702881                  0                  0   \n",
       "...                                       ...                ...   \n",
       "2020-10-19 16:19:07.969594                  0                  0   \n",
       "2020-10-19 16:19:15.870573                  0                  0   \n",
       "2020-10-19 16:19:21.000984                  0                  0   \n",
       "2020-10-19 16:19:28.859662                  0                  0   \n",
       "2020-10-19 16:19:36.659163                  0                  0   \n",
       "\n",
       "                            00:23:aa:5a:d6:f9  00:23:aa:69:3c:01  ...  \\\n",
       "2020-10-05 14:11:48.189351                  0                 50  ...   \n",
       "2020-10-05 14:11:58.893450                  0                 53  ...   \n",
       "2020-10-05 14:12:11.247124                  0                 57  ...   \n",
       "2020-10-05 14:12:21.900013                  0                 53  ...   \n",
       "2020-10-05 14:12:28.702881                  0                 62  ...   \n",
       "...                                       ...                ...  ...   \n",
       "2020-10-19 16:19:07.969594                 81                 97  ...   \n",
       "2020-10-19 16:19:15.870573                 72                 93  ...   \n",
       "2020-10-19 16:19:21.000984                 70                 92  ...   \n",
       "2020-10-19 16:19:28.859662                 70                 92  ...   \n",
       "2020-10-19 16:19:36.659163                 70                 92  ...   \n",
       "\n",
       "                            88:3c:1c:da:ce:6e  8a:3c:1c:10:95:58  \\\n",
       "2020-10-05 14:11:48.189351                  0                  0   \n",
       "2020-10-05 14:11:58.893450                  0                  0   \n",
       "2020-10-05 14:12:11.247124                  0                  0   \n",
       "2020-10-05 14:12:21.900013                  0                  0   \n",
       "2020-10-05 14:12:28.702881                  0                  0   \n",
       "...                                       ...                ...   \n",
       "2020-10-19 16:19:07.969594                  0                 53   \n",
       "2020-10-19 16:19:15.870573                  0                  0   \n",
       "2020-10-19 16:19:21.000984                 50                  0   \n",
       "2020-10-19 16:19:28.859662                  0                  0   \n",
       "2020-10-19 16:19:36.659163                 50                  0   \n",
       "\n",
       "                            b0:df:c1:53:87:a1  b4:a9:4f:1a:d4:3e  \\\n",
       "2020-10-05 14:11:48.189351                  0                  0   \n",
       "2020-10-05 14:11:58.893450                  0                  0   \n",
       "2020-10-05 14:12:11.247124                  0                  0   \n",
       "2020-10-05 14:12:21.900013                  0                  0   \n",
       "2020-10-05 14:12:28.702881                  0                  0   \n",
       "...                                       ...                ...   \n",
       "2020-10-19 16:19:07.969594                  0                  0   \n",
       "2020-10-19 16:19:15.870573                  0                  0   \n",
       "2020-10-19 16:19:21.000984                  0                  0   \n",
       "2020-10-19 16:19:28.859662                  0                  0   \n",
       "2020-10-19 16:19:36.659163                  0                  0   \n",
       "\n",
       "                            b4:a9:4f:70:ce:4c  ba:3c:1c:65:2c:c6  \\\n",
       "2020-10-05 14:11:48.189351                  0                  0   \n",
       "2020-10-05 14:11:58.893450                  0                  0   \n",
       "2020-10-05 14:12:11.247124                  0                  0   \n",
       "2020-10-05 14:12:21.900013                  0                  0   \n",
       "2020-10-05 14:12:28.702881                  0                  0   \n",
       "...                                       ...                ...   \n",
       "2020-10-19 16:19:07.969594                  0                  0   \n",
       "2020-10-19 16:19:15.870573                  0                 40   \n",
       "2020-10-19 16:19:21.000984                  0                  0   \n",
       "2020-10-19 16:19:28.859662                  0                  0   \n",
       "2020-10-19 16:19:36.659163                 40                  0   \n",
       "\n",
       "                            ba:a9:4f:70:ce:4c  e4:be:ed:96:73:1b  \\\n",
       "2020-10-05 14:11:48.189351                  0                  0   \n",
       "2020-10-05 14:11:58.893450                  0                  0   \n",
       "2020-10-05 14:12:11.247124                  0                  0   \n",
       "2020-10-05 14:12:21.900013                  0                  0   \n",
       "2020-10-05 14:12:28.702881                  0                  0   \n",
       "...                                       ...                ...   \n",
       "2020-10-19 16:19:07.969594                  0                  0   \n",
       "2020-10-19 16:19:15.870573                  0                  0   \n",
       "2020-10-19 16:19:21.000984                  0                  0   \n",
       "2020-10-19 16:19:28.859662                  0                  0   \n",
       "2020-10-19 16:19:36.659163                  0                  0   \n",
       "\n",
       "                            e4:be:ed:96:73:1f  rp  \n",
       "2020-10-05 14:11:48.189351                  0   1  \n",
       "2020-10-05 14:11:58.893450                  0   1  \n",
       "2020-10-05 14:12:11.247124                  0   1  \n",
       "2020-10-05 14:12:21.900013                  0   1  \n",
       "2020-10-05 14:12:28.702881                  0   1  \n",
       "...                                       ...  ..  \n",
       "2020-10-19 16:19:07.969594                  0   5  \n",
       "2020-10-19 16:19:15.870573                  0   5  \n",
       "2020-10-19 16:19:21.000984                  0   5  \n",
       "2020-10-19 16:19:28.859662                  0   5  \n",
       "2020-10-19 16:19:36.659163                  0   5  \n",
       "\n",
       "[375 rows x 63 columns]"
      ],
      "text/html": "<div>\n<style scoped>\n    .dataframe tbody tr th:only-of-type {\n        vertical-align: middle;\n    }\n\n    .dataframe tbody tr th {\n        vertical-align: top;\n    }\n\n    .dataframe thead th {\n        text-align: right;\n    }\n</style>\n<table border=\"1\" class=\"dataframe\">\n  <thead>\n    <tr style=\"text-align: right;\">\n      <th></th>\n      <th>00:03:c0:25:11:3e</th>\n      <th>00:08:52:34:40:e8</th>\n      <th>00:08:52:34:40:e9</th>\n      <th>00:08:52:34:40:ec</th>\n      <th>00:08:52:5d:3b:ad</th>\n      <th>00:08:52:5d:3b:af</th>\n      <th>00:0b:81:9b:d1:6e</th>\n      <th>00:23:aa:5a:d6:f8</th>\n      <th>00:23:aa:5a:d6:f9</th>\n      <th>00:23:aa:69:3c:01</th>\n      <th>...</th>\n      <th>88:3c:1c:da:ce:6e</th>\n      <th>8a:3c:1c:10:95:58</th>\n      <th>b0:df:c1:53:87:a1</th>\n      <th>b4:a9:4f:1a:d4:3e</th>\n      <th>b4:a9:4f:70:ce:4c</th>\n      <th>ba:3c:1c:65:2c:c6</th>\n      <th>ba:a9:4f:70:ce:4c</th>\n      <th>e4:be:ed:96:73:1b</th>\n      <th>e4:be:ed:96:73:1f</th>\n      <th>rp</th>\n    </tr>\n  </thead>\n  <tbody>\n    <tr>\n      <th>2020-10-05 14:11:48.189351</th>\n      <td>0</td>\n      <td>0</td>\n      <td>0</td>\n      <td>0</td>\n      <td>0</td>\n      <td>0</td>\n      <td>0</td>\n      <td>0</td>\n      <td>0</td>\n      <td>50</td>\n      <td>...</td>\n      <td>0</td>\n      <td>0</td>\n      <td>0</td>\n      <td>0</td>\n      <td>0</td>\n      <td>0</td>\n      <td>0</td>\n      <td>0</td>\n      <td>0</td>\n      <td>1</td>\n    </tr>\n    <tr>\n      <th>2020-10-05 14:11:58.893450</th>\n      <td>0</td>\n      <td>0</td>\n      <td>0</td>\n      <td>0</td>\n      <td>0</td>\n      <td>0</td>\n      <td>0</td>\n      <td>0</td>\n      <td>0</td>\n      <td>53</td>\n      <td>...</td>\n      <td>0</td>\n      <td>0</td>\n      <td>0</td>\n      <td>0</td>\n      <td>0</td>\n      <td>0</td>\n      <td>0</td>\n      <td>0</td>\n      <td>0</td>\n      <td>1</td>\n    </tr>\n    <tr>\n      <th>2020-10-05 14:12:11.247124</th>\n      <td>0</td>\n      <td>0</td>\n      <td>0</td>\n      <td>0</td>\n      <td>0</td>\n      <td>0</td>\n      <td>0</td>\n      <td>0</td>\n      <td>0</td>\n      <td>57</td>\n      <td>...</td>\n      <td>0</td>\n      <td>0</td>\n      <td>0</td>\n      <td>0</td>\n      <td>0</td>\n      <td>0</td>\n      <td>0</td>\n      <td>0</td>\n      <td>0</td>\n      <td>1</td>\n    </tr>\n    <tr>\n      <th>2020-10-05 14:12:21.900013</th>\n      <td>0</td>\n      <td>0</td>\n      <td>0</td>\n      <td>0</td>\n      <td>0</td>\n      <td>0</td>\n      <td>0</td>\n      <td>0</td>\n      <td>0</td>\n      <td>53</td>\n      <td>...</td>\n      <td>0</td>\n      <td>0</td>\n      <td>0</td>\n      <td>0</td>\n      <td>0</td>\n      <td>0</td>\n      <td>0</td>\n      <td>0</td>\n      <td>0</td>\n      <td>1</td>\n    </tr>\n    <tr>\n      <th>2020-10-05 14:12:28.702881</th>\n      <td>0</td>\n      <td>0</td>\n      <td>0</td>\n      <td>0</td>\n      <td>0</td>\n      <td>0</td>\n      <td>0</td>\n      <td>0</td>\n      <td>0</td>\n      <td>62</td>\n      <td>...</td>\n      <td>0</td>\n      <td>0</td>\n      <td>0</td>\n      <td>0</td>\n      <td>0</td>\n      <td>0</td>\n      <td>0</td>\n      <td>0</td>\n      <td>0</td>\n      <td>1</td>\n    </tr>\n    <tr>\n      <th>...</th>\n      <td>...</td>\n      <td>...</td>\n      <td>...</td>\n      <td>...</td>\n      <td>...</td>\n      <td>...</td>\n      <td>...</td>\n      <td>...</td>\n      <td>...</td>\n      <td>...</td>\n      <td>...</td>\n      <td>...</td>\n      <td>...</td>\n      <td>...</td>\n      <td>...</td>\n      <td>...</td>\n      <td>...</td>\n      <td>...</td>\n      <td>...</td>\n      <td>...</td>\n      <td>...</td>\n    </tr>\n    <tr>\n      <th>2020-10-19 16:19:07.969594</th>\n      <td>0</td>\n      <td>0</td>\n      <td>0</td>\n      <td>0</td>\n      <td>0</td>\n      <td>0</td>\n      <td>0</td>\n      <td>0</td>\n      <td>81</td>\n      <td>97</td>\n      <td>...</td>\n      <td>0</td>\n      <td>53</td>\n      <td>0</td>\n      <td>0</td>\n      <td>0</td>\n      <td>0</td>\n      <td>0</td>\n      <td>0</td>\n      <td>0</td>\n      <td>5</td>\n    </tr>\n    <tr>\n      <th>2020-10-19 16:19:15.870573</th>\n      <td>0</td>\n      <td>0</td>\n      <td>0</td>\n      <td>0</td>\n      <td>0</td>\n      <td>57</td>\n      <td>0</td>\n      <td>0</td>\n      <td>72</td>\n      <td>93</td>\n      <td>...</td>\n      <td>0</td>\n      <td>0</td>\n      <td>0</td>\n      <td>0</td>\n      <td>0</td>\n      <td>40</td>\n      <td>0</td>\n      <td>0</td>\n      <td>0</td>\n      <td>5</td>\n    </tr>\n    <tr>\n      <th>2020-10-19 16:19:21.000984</th>\n      <td>0</td>\n      <td>0</td>\n      <td>0</td>\n      <td>40</td>\n      <td>0</td>\n      <td>57</td>\n      <td>0</td>\n      <td>0</td>\n      <td>70</td>\n      <td>92</td>\n      <td>...</td>\n      <td>50</td>\n      <td>0</td>\n      <td>0</td>\n      <td>0</td>\n      <td>0</td>\n      <td>0</td>\n      <td>0</td>\n      <td>0</td>\n      <td>0</td>\n      <td>5</td>\n    </tr>\n    <tr>\n      <th>2020-10-19 16:19:28.859662</th>\n      <td>0</td>\n      <td>0</td>\n      <td>0</td>\n      <td>0</td>\n      <td>57</td>\n      <td>60</td>\n      <td>0</td>\n      <td>0</td>\n      <td>70</td>\n      <td>92</td>\n      <td>...</td>\n      <td>0</td>\n      <td>0</td>\n      <td>0</td>\n      <td>0</td>\n      <td>0</td>\n      <td>0</td>\n      <td>0</td>\n      <td>0</td>\n      <td>0</td>\n      <td>5</td>\n    </tr>\n    <tr>\n      <th>2020-10-19 16:19:36.659163</th>\n      <td>0</td>\n      <td>40</td>\n      <td>40</td>\n      <td>40</td>\n      <td>67</td>\n      <td>60</td>\n      <td>0</td>\n      <td>0</td>\n      <td>70</td>\n      <td>92</td>\n      <td>...</td>\n      <td>50</td>\n      <td>0</td>\n      <td>0</td>\n      <td>0</td>\n      <td>40</td>\n      <td>0</td>\n      <td>0</td>\n      <td>0</td>\n      <td>0</td>\n      <td>5</td>\n    </tr>\n  </tbody>\n</table>\n<p>375 rows × 63 columns</p>\n</div>"
     },
     "metadata": {},
     "execution_count": 4
    }
   ],
   "source": [
    "\n",
    "cols = df_all.columns.tolist()\n",
    "cols.sort()\n",
    "df_all = df_all[cols]\n",
    "\n",
    "df_all.to_csv(ml_data_path, index=False)\n",
    "df_all"
   ]
  },
  {
   "cell_type": "code",
   "execution_count": null,
   "metadata": {},
   "outputs": [],
   "source": []
  }
 ],
 "metadata": {
  "kernelspec": {
   "name": "Python 3.8.5 64-bit ('skplanet-wps': conda)",
   "display_name": "Python 3.8.5 64-bit ('skplanet-wps': conda)",
   "metadata": {
    "interpreter": {
     "hash": "1b21888daaddc9fb1f90179f0ba7cb36a844e9f70f4cd5365474a8b3fc47e882"
    }
   }
  },
  "language_info": {
   "codemirror_mode": {
    "name": "ipython",
    "version": 3
   },
   "file_extension": ".py",
   "mimetype": "text/x-python",
   "name": "python",
   "nbconvert_exporter": "python",
   "pygments_lexer": "ipython3",
   "version": "3.8.5-final"
  }
 },
 "nbformat": 4,
 "nbformat_minor": 4
}